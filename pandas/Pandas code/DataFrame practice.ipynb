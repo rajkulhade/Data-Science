{
 "cells": [
  {
   "cell_type": "code",
   "execution_count": 1,
   "id": "d63d5608-8444-4c2b-af9f-19256515897a",
   "metadata": {},
   "outputs": [],
   "source": [
    "import pandas as pd"
   ]
  },
  {
   "cell_type": "code",
   "execution_count": 12,
   "id": "0691ec83-06a4-4332-aebc-784df5cd7961",
   "metadata": {
    "tags": []
   },
   "outputs": [
    {
     "data": {
      "text/plain": [
       "0    100\n",
       "1    200\n",
       "2    300\n",
       "3    400\n",
       "4    500\n",
       "5    600\n",
       "dtype: int64"
      ]
     },
     "execution_count": 12,
     "metadata": {},
     "output_type": "execute_result"
    }
   ],
   "source": [
    "pd.Series([100,200,300,400,500,600])"
   ]
  },
  {
   "cell_type": "code",
   "execution_count": 16,
   "id": "e2cd6d83-f786-49da-8085-6a1b9dbe20d9",
   "metadata": {},
   "outputs": [],
   "source": [
    "df1=pd.DataFrame([[100,200,300,400,500],[\"AAA\",\"BBB\",\"CCC\",\"DDD\",\"EEE\"]])"
   ]
  },
  {
   "cell_type": "code",
   "execution_count": 17,
   "id": "d152eee9-ec80-4b37-95b8-a46ca212d937",
   "metadata": {},
   "outputs": [
    {
     "data": {
      "text/html": [
       "<div>\n",
       "<style scoped>\n",
       "    .dataframe tbody tr th:only-of-type {\n",
       "        vertical-align: middle;\n",
       "    }\n",
       "\n",
       "    .dataframe tbody tr th {\n",
       "        vertical-align: top;\n",
       "    }\n",
       "\n",
       "    .dataframe thead th {\n",
       "        text-align: right;\n",
       "    }\n",
       "</style>\n",
       "<table border=\"1\" class=\"dataframe\">\n",
       "  <thead>\n",
       "    <tr style=\"text-align: right;\">\n",
       "      <th></th>\n",
       "      <th>0</th>\n",
       "      <th>1</th>\n",
       "      <th>2</th>\n",
       "      <th>3</th>\n",
       "      <th>4</th>\n",
       "    </tr>\n",
       "  </thead>\n",
       "  <tbody>\n",
       "    <tr>\n",
       "      <th>0</th>\n",
       "      <td>100</td>\n",
       "      <td>200</td>\n",
       "      <td>300</td>\n",
       "      <td>400</td>\n",
       "      <td>500</td>\n",
       "    </tr>\n",
       "    <tr>\n",
       "      <th>1</th>\n",
       "      <td>AAA</td>\n",
       "      <td>BBB</td>\n",
       "      <td>CCC</td>\n",
       "      <td>DDD</td>\n",
       "      <td>EEE</td>\n",
       "    </tr>\n",
       "  </tbody>\n",
       "</table>\n",
       "</div>"
      ],
      "text/plain": [
       "     0    1    2    3    4\n",
       "0  100  200  300  400  500\n",
       "1  AAA  BBB  CCC  DDD  EEE"
      ]
     },
     "execution_count": 17,
     "metadata": {},
     "output_type": "execute_result"
    }
   ],
   "source": [
    "df1"
   ]
  },
  {
   "cell_type": "code",
   "execution_count": 19,
   "id": "37f159b3-1397-4f47-890e-26766871dc38",
   "metadata": {},
   "outputs": [
    {
     "data": {
      "text/plain": [
       "0    300\n",
       "1    CCC\n",
       "Name: 2, dtype: object"
      ]
     },
     "execution_count": 19,
     "metadata": {},
     "output_type": "execute_result"
    }
   ],
   "source": [
    "df1[2]"
   ]
  },
  {
   "cell_type": "code",
   "execution_count": 20,
   "id": "3e945825-77e0-4d75-890e-f8a26703d0cc",
   "metadata": {},
   "outputs": [
    {
     "data": {
      "text/plain": [
       "'CCC'"
      ]
     },
     "execution_count": 20,
     "metadata": {},
     "output_type": "execute_result"
    }
   ],
   "source": [
    "df1[2][1]"
   ]
  },
  {
   "cell_type": "code",
   "execution_count": 30,
   "id": "d5515f87-e731-4c6a-a607-8166e003e4ae",
   "metadata": {},
   "outputs": [],
   "source": [
    "a = 111\n",
    "an = 'ARJUN'\n",
    "b = 222\n",
    "bn = \"Raj\"\n",
    "c = 333\n",
    "cn = \"Rahul\""
   ]
  },
  {
   "cell_type": "code",
   "execution_count": 33,
   "id": "a4389a8c-b4e4-4a60-98c3-f1cff25a2860",
   "metadata": {},
   "outputs": [],
   "source": [
    "df_std=pd.DataFrame([[a,an,\"Hyd\"],[b,bn,\"Del\"],[c,cn,\"Viz\"]])"
   ]
  },
  {
   "cell_type": "code",
   "execution_count": 34,
   "id": "c31d7bdd-b063-4601-b280-7fb2e8841954",
   "metadata": {},
   "outputs": [
    {
     "data": {
      "text/html": [
       "<div>\n",
       "<style scoped>\n",
       "    .dataframe tbody tr th:only-of-type {\n",
       "        vertical-align: middle;\n",
       "    }\n",
       "\n",
       "    .dataframe tbody tr th {\n",
       "        vertical-align: top;\n",
       "    }\n",
       "\n",
       "    .dataframe thead th {\n",
       "        text-align: right;\n",
       "    }\n",
       "</style>\n",
       "<table border=\"1\" class=\"dataframe\">\n",
       "  <thead>\n",
       "    <tr style=\"text-align: right;\">\n",
       "      <th></th>\n",
       "      <th>0</th>\n",
       "      <th>1</th>\n",
       "      <th>2</th>\n",
       "    </tr>\n",
       "  </thead>\n",
       "  <tbody>\n",
       "    <tr>\n",
       "      <th>0</th>\n",
       "      <td>111</td>\n",
       "      <td>ARJUN</td>\n",
       "      <td>Hyd</td>\n",
       "    </tr>\n",
       "    <tr>\n",
       "      <th>1</th>\n",
       "      <td>222</td>\n",
       "      <td>Raj</td>\n",
       "      <td>Del</td>\n",
       "    </tr>\n",
       "    <tr>\n",
       "      <th>2</th>\n",
       "      <td>333</td>\n",
       "      <td>Rahul</td>\n",
       "      <td>Viz</td>\n",
       "    </tr>\n",
       "  </tbody>\n",
       "</table>\n",
       "</div>"
      ],
      "text/plain": [
       "     0      1    2\n",
       "0  111  ARJUN  Hyd\n",
       "1  222    Raj  Del\n",
       "2  333  Rahul  Viz"
      ]
     },
     "execution_count": 34,
     "metadata": {},
     "output_type": "execute_result"
    }
   ],
   "source": [
    "df_std"
   ]
  },
  {
   "cell_type": "code",
   "execution_count": 35,
   "id": "65b494ee-b168-477c-af01-d1e662e30a02",
   "metadata": {},
   "outputs": [
    {
     "data": {
      "text/plain": [
       "0    Hyd\n",
       "1    Del\n",
       "2    Viz\n",
       "Name: 2, dtype: object"
      ]
     },
     "execution_count": 35,
     "metadata": {},
     "output_type": "execute_result"
    }
   ],
   "source": [
    "df_std[2]"
   ]
  },
  {
   "cell_type": "code",
   "execution_count": 36,
   "id": "69ac3126-72e3-41ee-8472-90937b1e6027",
   "metadata": {},
   "outputs": [
    {
     "data": {
      "text/html": [
       "<div>\n",
       "<style scoped>\n",
       "    .dataframe tbody tr th:only-of-type {\n",
       "        vertical-align: middle;\n",
       "    }\n",
       "\n",
       "    .dataframe tbody tr th {\n",
       "        vertical-align: top;\n",
       "    }\n",
       "\n",
       "    .dataframe thead th {\n",
       "        text-align: right;\n",
       "    }\n",
       "</style>\n",
       "<table border=\"1\" class=\"dataframe\">\n",
       "  <thead>\n",
       "    <tr style=\"text-align: right;\">\n",
       "      <th></th>\n",
       "      <th>2</th>\n",
       "    </tr>\n",
       "  </thead>\n",
       "  <tbody>\n",
       "    <tr>\n",
       "      <th>0</th>\n",
       "      <td>Hyd</td>\n",
       "    </tr>\n",
       "    <tr>\n",
       "      <th>1</th>\n",
       "      <td>Del</td>\n",
       "    </tr>\n",
       "    <tr>\n",
       "      <th>2</th>\n",
       "      <td>Viz</td>\n",
       "    </tr>\n",
       "  </tbody>\n",
       "</table>\n",
       "</div>"
      ],
      "text/plain": [
       "     2\n",
       "0  Hyd\n",
       "1  Del\n",
       "2  Viz"
      ]
     },
     "execution_count": 36,
     "metadata": {},
     "output_type": "execute_result"
    }
   ],
   "source": [
    "df_std[[2]]"
   ]
  },
  {
   "cell_type": "code",
   "execution_count": 37,
   "id": "70d00086-bac7-4401-aaa9-eec25048cd07",
   "metadata": {},
   "outputs": [
    {
     "data": {
      "text/plain": [
       "pandas.core.series.Series"
      ]
     },
     "execution_count": 37,
     "metadata": {},
     "output_type": "execute_result"
    }
   ],
   "source": [
    "type(df_std[2])"
   ]
  },
  {
   "cell_type": "code",
   "execution_count": 38,
   "id": "5a0e3716-f862-4aa1-8f95-b8361f50675d",
   "metadata": {},
   "outputs": [
    {
     "data": {
      "text/plain": [
       "pandas.core.frame.DataFrame"
      ]
     },
     "execution_count": 38,
     "metadata": {},
     "output_type": "execute_result"
    }
   ],
   "source": [
    "type(df_std[[2]])"
   ]
  },
  {
   "cell_type": "code",
   "execution_count": 40,
   "id": "aa32249b-8df3-4b6a-ad70-60274115c13f",
   "metadata": {
    "tags": []
   },
   "outputs": [],
   "source": [
    "#DF With SCALER"
   ]
  },
  {
   "cell_type": "code",
   "execution_count": 43,
   "id": "20d12a86-a258-4d0d-b9c7-0f6d772cc918",
   "metadata": {},
   "outputs": [],
   "source": [
    "df_scaler=pd.DataFrame(9,index=[1,2,3,4,5],columns=[\"col1\",\"col2\",\"col3\"])"
   ]
  },
  {
   "cell_type": "code",
   "execution_count": 44,
   "id": "44f1db57-3443-43ee-a753-a6739ae3390b",
   "metadata": {},
   "outputs": [
    {
     "data": {
      "text/html": [
       "<div>\n",
       "<style scoped>\n",
       "    .dataframe tbody tr th:only-of-type {\n",
       "        vertical-align: middle;\n",
       "    }\n",
       "\n",
       "    .dataframe tbody tr th {\n",
       "        vertical-align: top;\n",
       "    }\n",
       "\n",
       "    .dataframe thead th {\n",
       "        text-align: right;\n",
       "    }\n",
       "</style>\n",
       "<table border=\"1\" class=\"dataframe\">\n",
       "  <thead>\n",
       "    <tr style=\"text-align: right;\">\n",
       "      <th></th>\n",
       "      <th>col1</th>\n",
       "      <th>col2</th>\n",
       "      <th>col3</th>\n",
       "    </tr>\n",
       "  </thead>\n",
       "  <tbody>\n",
       "    <tr>\n",
       "      <th>1</th>\n",
       "      <td>9</td>\n",
       "      <td>9</td>\n",
       "      <td>9</td>\n",
       "    </tr>\n",
       "    <tr>\n",
       "      <th>2</th>\n",
       "      <td>9</td>\n",
       "      <td>9</td>\n",
       "      <td>9</td>\n",
       "    </tr>\n",
       "    <tr>\n",
       "      <th>3</th>\n",
       "      <td>9</td>\n",
       "      <td>9</td>\n",
       "      <td>9</td>\n",
       "    </tr>\n",
       "    <tr>\n",
       "      <th>4</th>\n",
       "      <td>9</td>\n",
       "      <td>9</td>\n",
       "      <td>9</td>\n",
       "    </tr>\n",
       "    <tr>\n",
       "      <th>5</th>\n",
       "      <td>9</td>\n",
       "      <td>9</td>\n",
       "      <td>9</td>\n",
       "    </tr>\n",
       "  </tbody>\n",
       "</table>\n",
       "</div>"
      ],
      "text/plain": [
       "   col1  col2  col3\n",
       "1     9     9     9\n",
       "2     9     9     9\n",
       "3     9     9     9\n",
       "4     9     9     9\n",
       "5     9     9     9"
      ]
     },
     "execution_count": 44,
     "metadata": {},
     "output_type": "execute_result"
    }
   ],
   "source": [
    "df_scaler"
   ]
  },
  {
   "cell_type": "code",
   "execution_count": 45,
   "id": "af287516-42cc-4408-a5f0-a15380ec778c",
   "metadata": {},
   "outputs": [
    {
     "data": {
      "text/plain": [
       "1    9\n",
       "2    9\n",
       "3    9\n",
       "4    9\n",
       "5    9\n",
       "Name: col2, dtype: int64"
      ]
     },
     "execution_count": 45,
     "metadata": {},
     "output_type": "execute_result"
    }
   ],
   "source": [
    "df_scaler[\"col2\"]"
   ]
  },
  {
   "cell_type": "code",
   "execution_count": 46,
   "id": "518fe0b5-31d6-4d32-940c-5a7b7cf3ed33",
   "metadata": {},
   "outputs": [],
   "source": [
    "list1=[\"apple\",\"mango\",\"banana\",\"Orange\",\"Red\"]"
   ]
  },
  {
   "cell_type": "code",
   "execution_count": 47,
   "id": "50e93a7a-5d14-4046-a9eb-8b04c33952ed",
   "metadata": {},
   "outputs": [
    {
     "data": {
      "text/plain": [
       "['apple', 'mango', 'banana', 'Orange', 'Red']"
      ]
     },
     "execution_count": 47,
     "metadata": {},
     "output_type": "execute_result"
    }
   ],
   "source": [
    "list1"
   ]
  },
  {
   "cell_type": "code",
   "execution_count": 60,
   "id": "6f3f0a26-a484-4dba-a7da-6ff9fe1ca570",
   "metadata": {},
   "outputs": [],
   "source": [
    "df_fruits=pd.DataFrame(list1,index=[\"a\",\"m\",\"b\",\"o\",\"R\"],columns=[\"Fruits\"])"
   ]
  },
  {
   "cell_type": "code",
   "execution_count": 61,
   "id": "2cb6d1ea-f0ab-4e51-bda4-3ad1d4263063",
   "metadata": {},
   "outputs": [
    {
     "data": {
      "text/html": [
       "<div>\n",
       "<style scoped>\n",
       "    .dataframe tbody tr th:only-of-type {\n",
       "        vertical-align: middle;\n",
       "    }\n",
       "\n",
       "    .dataframe tbody tr th {\n",
       "        vertical-align: top;\n",
       "    }\n",
       "\n",
       "    .dataframe thead th {\n",
       "        text-align: right;\n",
       "    }\n",
       "</style>\n",
       "<table border=\"1\" class=\"dataframe\">\n",
       "  <thead>\n",
       "    <tr style=\"text-align: right;\">\n",
       "      <th></th>\n",
       "      <th>Fruits</th>\n",
       "    </tr>\n",
       "  </thead>\n",
       "  <tbody>\n",
       "    <tr>\n",
       "      <th>a</th>\n",
       "      <td>apple</td>\n",
       "    </tr>\n",
       "    <tr>\n",
       "      <th>m</th>\n",
       "      <td>mango</td>\n",
       "    </tr>\n",
       "    <tr>\n",
       "      <th>b</th>\n",
       "      <td>banana</td>\n",
       "    </tr>\n",
       "    <tr>\n",
       "      <th>o</th>\n",
       "      <td>Orange</td>\n",
       "    </tr>\n",
       "    <tr>\n",
       "      <th>R</th>\n",
       "      <td>Red</td>\n",
       "    </tr>\n",
       "  </tbody>\n",
       "</table>\n",
       "</div>"
      ],
      "text/plain": [
       "   Fruits\n",
       "a   apple\n",
       "m   mango\n",
       "b  banana\n",
       "o  Orange\n",
       "R     Red"
      ]
     },
     "execution_count": 61,
     "metadata": {},
     "output_type": "execute_result"
    }
   ],
   "source": [
    "df_fruits"
   ]
  },
  {
   "cell_type": "code",
   "execution_count": null,
   "id": "244c96b7-53b3-44f2-a96b-84d4b4428c45",
   "metadata": {},
   "outputs": [],
   "source": []
  }
 ],
 "metadata": {
  "kernelspec": {
   "display_name": "Python 3 (ipykernel)",
   "language": "python",
   "name": "python3"
  },
  "language_info": {
   "codemirror_mode": {
    "name": "ipython",
    "version": 3
   },
   "file_extension": ".py",
   "mimetype": "text/x-python",
   "name": "python",
   "nbconvert_exporter": "python",
   "pygments_lexer": "ipython3",
   "version": "3.9.7"
  }
 },
 "nbformat": 4,
 "nbformat_minor": 5
}
