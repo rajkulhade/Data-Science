{
 "cells": [
  {
   "cell_type": "code",
   "execution_count": 1,
   "id": "20656fef",
   "metadata": {},
   "outputs": [],
   "source": [
    "import pandas as pd"
   ]
  },
  {
   "cell_type": "markdown",
   "id": "aa04654b",
   "metadata": {},
   "source": [
    "### CREATING SERIES WITH VALUES"
   ]
  },
  {
   "cell_type": "code",
   "execution_count": 3,
   "id": "69b66bc8",
   "metadata": {},
   "outputs": [],
   "source": [
    "s1 = pd.Series([100,200,300,400])"
   ]
  },
  {
   "cell_type": "code",
   "execution_count": 4,
   "id": "27981786",
   "metadata": {},
   "outputs": [
    {
     "data": {
      "text/plain": [
       "0    100\n",
       "1    200\n",
       "2    300\n",
       "3    400\n",
       "dtype: int64"
      ]
     },
     "execution_count": 4,
     "metadata": {},
     "output_type": "execute_result"
    }
   ],
   "source": [
    "s1"
   ]
  },
  {
   "cell_type": "code",
   "execution_count": 5,
   "id": "99ab2d90",
   "metadata": {},
   "outputs": [
    {
     "data": {
      "text/plain": [
       "300"
      ]
     },
     "execution_count": 5,
     "metadata": {},
     "output_type": "execute_result"
    }
   ],
   "source": [
    "s1[2]"
   ]
  },
  {
   "cell_type": "code",
   "execution_count": 6,
   "id": "152f3409",
   "metadata": {},
   "outputs": [],
   "source": [
    "a = 'BLUE'\n",
    "b = 'GREEN'\n",
    "c = 'YELLOW'\n",
    "d = 'PINK'"
   ]
  },
  {
   "cell_type": "code",
   "execution_count": 10,
   "id": "d5956d61",
   "metadata": {},
   "outputs": [],
   "source": [
    "s2 = pd.Series([a,b,c,d], index=['B','G','Y','P'])"
   ]
  },
  {
   "cell_type": "code",
   "execution_count": 11,
   "id": "16ef224f",
   "metadata": {},
   "outputs": [
    {
     "data": {
      "text/plain": [
       "B      BLUE\n",
       "G     GREEN\n",
       "Y    YELLOW\n",
       "P      PINK\n",
       "dtype: object"
      ]
     },
     "execution_count": 11,
     "metadata": {},
     "output_type": "execute_result"
    }
   ],
   "source": [
    "s2"
   ]
  },
  {
   "cell_type": "code",
   "execution_count": 12,
   "id": "1123d0ba",
   "metadata": {},
   "outputs": [
    {
     "data": {
      "text/plain": [
       "'YELLOW'"
      ]
     },
     "execution_count": 12,
     "metadata": {},
     "output_type": "execute_result"
    }
   ],
   "source": [
    "s2[2]"
   ]
  },
  {
   "cell_type": "code",
   "execution_count": 14,
   "id": "448bf2fa",
   "metadata": {},
   "outputs": [
    {
     "data": {
      "text/plain": [
       "'BLUE'"
      ]
     },
     "execution_count": 14,
     "metadata": {},
     "output_type": "execute_result"
    }
   ],
   "source": [
    "s2[\"B\"]"
   ]
  },
  {
   "cell_type": "code",
   "execution_count": 15,
   "id": "3d5c15a1",
   "metadata": {},
   "outputs": [
    {
     "data": {
      "text/plain": [
       "'BLUE'"
      ]
     },
     "execution_count": 15,
     "metadata": {},
     "output_type": "execute_result"
    }
   ],
   "source": [
    "s2[0]"
   ]
  },
  {
   "cell_type": "code",
   "execution_count": 16,
   "id": "9f385e30",
   "metadata": {},
   "outputs": [
    {
     "data": {
      "text/plain": [
       "B      BLUE\n",
       "G     GREEN\n",
       "Y    YELLOW\n",
       "P      PINK\n",
       "dtype: object"
      ]
     },
     "execution_count": 16,
     "metadata": {},
     "output_type": "execute_result"
    }
   ],
   "source": [
    "s2"
   ]
  },
  {
   "cell_type": "code",
   "execution_count": 17,
   "id": "95b2036a",
   "metadata": {},
   "outputs": [
    {
     "data": {
      "text/plain": [
       "G     GREEN\n",
       "Y    YELLOW\n",
       "dtype: object"
      ]
     },
     "execution_count": 17,
     "metadata": {},
     "output_type": "execute_result"
    }
   ],
   "source": [
    "s2[1 : 3]"
   ]
  },
  {
   "cell_type": "code",
   "execution_count": null,
   "id": "33b38127",
   "metadata": {},
   "outputs": [],
   "source": [
    "s2[\"G\" : ]"
   ]
  }
 ],
 "metadata": {
  "kernelspec": {
   "display_name": "Python 3 (ipykernel)",
   "language": "python",
   "name": "python3"
  },
  "language_info": {
   "codemirror_mode": {
    "name": "ipython",
    "version": 3
   },
   "file_extension": ".py",
   "mimetype": "text/x-python",
   "name": "python",
   "nbconvert_exporter": "python",
   "pygments_lexer": "ipython3",
   "version": "3.9.7"
  }
 },
 "nbformat": 4,
 "nbformat_minor": 5
}
