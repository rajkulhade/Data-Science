{
 "cells": [
  {
   "cell_type": "code",
   "execution_count": 1,
   "id": "c07be3d5-2673-4aef-87e2-7826621e38d4",
   "metadata": {},
   "outputs": [],
   "source": [
    "import pandas as pd\n",
    "import numpy as np"
   ]
  },
  {
   "cell_type": "code",
   "execution_count": 2,
   "id": "07c8e2c3-f70e-4e3e-8ad5-db75b7c70c0a",
   "metadata": {},
   "outputs": [],
   "source": [
    "list1=[100,200,300,400]"
   ]
  },
  {
   "cell_type": "code",
   "execution_count": 5,
   "id": "5e1d4134-226f-4d80-b984-eec1aa67ac30",
   "metadata": {},
   "outputs": [
    {
     "data": {
      "text/plain": [
       "[100, 200, 300, 400]"
      ]
     },
     "execution_count": 5,
     "metadata": {},
     "output_type": "execute_result"
    }
   ],
   "source": [
    "list1"
   ]
  },
  {
   "cell_type": "code",
   "execution_count": 8,
   "id": "620db721-da3b-4e5e-bf02-bc1567f957f0",
   "metadata": {},
   "outputs": [],
   "source": [
    "s1=pd.Series(list1)"
   ]
  },
  {
   "cell_type": "code",
   "execution_count": 9,
   "id": "40ff5ad5-2c2a-427f-8c9f-f9e4edfe232c",
   "metadata": {},
   "outputs": [
    {
     "data": {
      "text/plain": [
       "0    100\n",
       "1    200\n",
       "2    300\n",
       "3    400\n",
       "dtype: int64"
      ]
     },
     "execution_count": 9,
     "metadata": {},
     "output_type": "execute_result"
    }
   ],
   "source": [
    "s1"
   ]
  },
  {
   "cell_type": "code",
   "execution_count": 13,
   "id": "c951d0f8-657e-410e-9d47-7e1186bea2c9",
   "metadata": {},
   "outputs": [],
   "source": [
    "s2=pd.Series(list1,index=[\"A\",\"B\",\"C\",\"D\"])"
   ]
  },
  {
   "cell_type": "code",
   "execution_count": 11,
   "id": "dc55bbf0-1b4c-4d0a-82bf-bd70d37b1ba0",
   "metadata": {},
   "outputs": [
    {
     "data": {
      "text/plain": [
       "A    100\n",
       "B    200\n",
       "C    300\n",
       "D    400\n",
       "dtype: int64"
      ]
     },
     "execution_count": 11,
     "metadata": {},
     "output_type": "execute_result"
    }
   ],
   "source": [
    "s2"
   ]
  },
  {
   "cell_type": "code",
   "execution_count": 15,
   "id": "e1005b64-1374-4989-a8ce-9c100c4ca215",
   "metadata": {},
   "outputs": [],
   "source": [
    "list2=[[10,20],[20,30],[30,40]]"
   ]
  },
  {
   "cell_type": "code",
   "execution_count": 16,
   "id": "45dfa59f-4270-406e-93cf-7674b625b540",
   "metadata": {},
   "outputs": [
    {
     "data": {
      "text/plain": [
       "0    [10, 20]\n",
       "1    [20, 30]\n",
       "2    [30, 40]\n",
       "dtype: object"
      ]
     },
     "execution_count": 16,
     "metadata": {},
     "output_type": "execute_result"
    }
   ],
   "source": [
    "pd.Series(list2)"
   ]
  },
  {
   "cell_type": "code",
   "execution_count": null,
   "id": "80dc3d03-edb3-465a-b446-7a59af43d1bc",
   "metadata": {},
   "outputs": [],
   "source": []
  }
 ],
 "metadata": {
  "kernelspec": {
   "display_name": "Python 3 (ipykernel)",
   "language": "python",
   "name": "python3"
  },
  "language_info": {
   "codemirror_mode": {
    "name": "ipython",
    "version": 3
   },
   "file_extension": ".py",
   "mimetype": "text/x-python",
   "name": "python",
   "nbconvert_exporter": "python",
   "pygments_lexer": "ipython3",
   "version": "3.9.7"
  }
 },
 "nbformat": 4,
 "nbformat_minor": 5
}
