{
 "cells": [
  {
   "cell_type": "code",
   "execution_count": 6,
   "id": "1104dcd2",
   "metadata": {},
   "outputs": [],
   "source": [
    "import pandas as pd\n",
    "import numpy as np\n"
   ]
  },
  {
   "cell_type": "code",
   "execution_count": 2,
   "id": "3329aa57",
   "metadata": {},
   "outputs": [],
   "source": [
    "s1 = pd.Series([10,20,30,40,50])"
   ]
  },
  {
   "cell_type": "code",
   "execution_count": 3,
   "id": "c9401e9e",
   "metadata": {},
   "outputs": [
    {
     "data": {
      "text/plain": [
       "0    10\n",
       "1    20\n",
       "2    30\n",
       "3    40\n",
       "4    50\n",
       "dtype: int64"
      ]
     },
     "execution_count": 3,
     "metadata": {},
     "output_type": "execute_result"
    }
   ],
   "source": [
    "s1"
   ]
  },
  {
   "cell_type": "code",
   "execution_count": 4,
   "id": "e3991a2e",
   "metadata": {},
   "outputs": [],
   "source": [
    "df1 = pd.DataFrame(s1)"
   ]
  },
  {
   "cell_type": "code",
   "execution_count": 5,
   "id": "2f6a698a",
   "metadata": {},
   "outputs": [
    {
     "data": {
      "text/html": [
       "<div>\n",
       "<style scoped>\n",
       "    .dataframe tbody tr th:only-of-type {\n",
       "        vertical-align: middle;\n",
       "    }\n",
       "\n",
       "    .dataframe tbody tr th {\n",
       "        vertical-align: top;\n",
       "    }\n",
       "\n",
       "    .dataframe thead th {\n",
       "        text-align: right;\n",
       "    }\n",
       "</style>\n",
       "<table border=\"1\" class=\"dataframe\">\n",
       "  <thead>\n",
       "    <tr style=\"text-align: right;\">\n",
       "      <th></th>\n",
       "      <th>0</th>\n",
       "    </tr>\n",
       "  </thead>\n",
       "  <tbody>\n",
       "    <tr>\n",
       "      <th>0</th>\n",
       "      <td>10</td>\n",
       "    </tr>\n",
       "    <tr>\n",
       "      <th>1</th>\n",
       "      <td>20</td>\n",
       "    </tr>\n",
       "    <tr>\n",
       "      <th>2</th>\n",
       "      <td>30</td>\n",
       "    </tr>\n",
       "    <tr>\n",
       "      <th>3</th>\n",
       "      <td>40</td>\n",
       "    </tr>\n",
       "    <tr>\n",
       "      <th>4</th>\n",
       "      <td>50</td>\n",
       "    </tr>\n",
       "  </tbody>\n",
       "</table>\n",
       "</div>"
      ],
      "text/plain": [
       "    0\n",
       "0  10\n",
       "1  20\n",
       "2  30\n",
       "3  40\n",
       "4  50"
      ]
     },
     "execution_count": 5,
     "metadata": {},
     "output_type": "execute_result"
    }
   ],
   "source": [
    "df1"
   ]
  },
  {
   "cell_type": "code",
   "execution_count": 8,
   "id": "3085c890",
   "metadata": {},
   "outputs": [],
   "source": [
    "s2 = pd.Series(np.arange(11,16))"
   ]
  },
  {
   "cell_type": "code",
   "execution_count": 9,
   "id": "e2ef23b3",
   "metadata": {},
   "outputs": [
    {
     "data": {
      "text/plain": [
       "0    11\n",
       "1    12\n",
       "2    13\n",
       "3    14\n",
       "4    15\n",
       "dtype: int32"
      ]
     },
     "execution_count": 9,
     "metadata": {},
     "output_type": "execute_result"
    }
   ],
   "source": [
    "s2"
   ]
  },
  {
   "cell_type": "code",
   "execution_count": 11,
   "id": "1e2e6021",
   "metadata": {},
   "outputs": [
    {
     "data": {
      "text/html": [
       "<div>\n",
       "<style scoped>\n",
       "    .dataframe tbody tr th:only-of-type {\n",
       "        vertical-align: middle;\n",
       "    }\n",
       "\n",
       "    .dataframe tbody tr th {\n",
       "        vertical-align: top;\n",
       "    }\n",
       "\n",
       "    .dataframe thead th {\n",
       "        text-align: right;\n",
       "    }\n",
       "</style>\n",
       "<table border=\"1\" class=\"dataframe\">\n",
       "  <thead>\n",
       "    <tr style=\"text-align: right;\">\n",
       "      <th></th>\n",
       "      <th>0</th>\n",
       "      <th>1</th>\n",
       "      <th>2</th>\n",
       "      <th>3</th>\n",
       "      <th>4</th>\n",
       "    </tr>\n",
       "  </thead>\n",
       "  <tbody>\n",
       "    <tr>\n",
       "      <th>0</th>\n",
       "      <td>10</td>\n",
       "      <td>20</td>\n",
       "      <td>30</td>\n",
       "      <td>40</td>\n",
       "      <td>50</td>\n",
       "    </tr>\n",
       "    <tr>\n",
       "      <th>1</th>\n",
       "      <td>11</td>\n",
       "      <td>12</td>\n",
       "      <td>13</td>\n",
       "      <td>14</td>\n",
       "      <td>15</td>\n",
       "    </tr>\n",
       "  </tbody>\n",
       "</table>\n",
       "</div>"
      ],
      "text/plain": [
       "    0   1   2   3   4\n",
       "0  10  20  30  40  50\n",
       "1  11  12  13  14  15"
      ]
     },
     "execution_count": 11,
     "metadata": {},
     "output_type": "execute_result"
    }
   ],
   "source": [
    "pd.DataFrame([s1,s2])"
   ]
  },
  {
   "cell_type": "code",
   "execution_count": 12,
   "id": "c6f5f887",
   "metadata": {},
   "outputs": [
    {
     "data": {
      "text/html": [
       "<div>\n",
       "<style scoped>\n",
       "    .dataframe tbody tr th:only-of-type {\n",
       "        vertical-align: middle;\n",
       "    }\n",
       "\n",
       "    .dataframe tbody tr th {\n",
       "        vertical-align: top;\n",
       "    }\n",
       "\n",
       "    .dataframe thead th {\n",
       "        text-align: right;\n",
       "    }\n",
       "</style>\n",
       "<table border=\"1\" class=\"dataframe\">\n",
       "  <thead>\n",
       "    <tr style=\"text-align: right;\">\n",
       "      <th></th>\n",
       "      <th>0</th>\n",
       "    </tr>\n",
       "  </thead>\n",
       "  <tbody>\n",
       "    <tr>\n",
       "      <th>0</th>\n",
       "      <td>10</td>\n",
       "    </tr>\n",
       "    <tr>\n",
       "      <th>1</th>\n",
       "      <td>20</td>\n",
       "    </tr>\n",
       "    <tr>\n",
       "      <th>2</th>\n",
       "      <td>30</td>\n",
       "    </tr>\n",
       "    <tr>\n",
       "      <th>3</th>\n",
       "      <td>40</td>\n",
       "    </tr>\n",
       "    <tr>\n",
       "      <th>4</th>\n",
       "      <td>50</td>\n",
       "    </tr>\n",
       "    <tr>\n",
       "      <th>5</th>\n",
       "      <td>60</td>\n",
       "    </tr>\n",
       "    <tr>\n",
       "      <th>6</th>\n",
       "      <td>70</td>\n",
       "    </tr>\n",
       "    <tr>\n",
       "      <th>7</th>\n",
       "      <td>80</td>\n",
       "    </tr>\n",
       "    <tr>\n",
       "      <th>8</th>\n",
       "      <td>90</td>\n",
       "    </tr>\n",
       "  </tbody>\n",
       "</table>\n",
       "</div>"
      ],
      "text/plain": [
       "    0\n",
       "0  10\n",
       "1  20\n",
       "2  30\n",
       "3  40\n",
       "4  50\n",
       "5  60\n",
       "6  70\n",
       "7  80\n",
       "8  90"
      ]
     },
     "execution_count": 12,
     "metadata": {},
     "output_type": "execute_result"
    }
   ],
   "source": [
    "pd.DataFrame(pd.Series(np.arange(10,100,10)))"
   ]
  },
  {
   "cell_type": "code",
   "execution_count": 13,
   "id": "207fb42d",
   "metadata": {},
   "outputs": [],
   "source": [
    "dic1 = {\n",
    "    \n",
    "        \"A\" : 100,\n",
    "        \"B\" : 200,\n",
    "        \"C\" : 300,\n",
    "        \"D\" : 400\n",
    "}"
   ]
  },
  {
   "cell_type": "code",
   "execution_count": 14,
   "id": "9c3ca511",
   "metadata": {},
   "outputs": [
    {
     "data": {
      "text/plain": [
       "{'A': 100, 'B': 200, 'C': 300, 'D': 400}"
      ]
     },
     "execution_count": 14,
     "metadata": {},
     "output_type": "execute_result"
    }
   ],
   "source": [
    "dic1"
   ]
  },
  {
   "cell_type": "code",
   "execution_count": 15,
   "id": "6a7f5342",
   "metadata": {},
   "outputs": [
    {
     "data": {
      "text/plain": [
       "A    100\n",
       "B    200\n",
       "C    300\n",
       "D    400\n",
       "dtype: int64"
      ]
     },
     "execution_count": 15,
     "metadata": {},
     "output_type": "execute_result"
    }
   ],
   "source": [
    "pd.Series(dic1)"
   ]
  },
  {
   "cell_type": "code",
   "execution_count": 21,
   "id": "c32c1f58",
   "metadata": {},
   "outputs": [],
   "source": [
    "dic2 = {\n",
    "    \n",
    "        \"NAME\" : ['AAA','BBB','CCC','DDD'],\n",
    "        \"Class\" :[10,12,11,10],\n",
    "        \"Computer\" : [80,60,85,75],\n",
    "        \"Science\" : [59,60,85, 90]\n",
    "}"
   ]
  },
  {
   "cell_type": "code",
   "execution_count": 29,
   "id": "9fd5cd13",
   "metadata": {
    "scrolled": true
   },
   "outputs": [],
   "source": [
    "df_std = pd.DataFrame(dic2)"
   ]
  },
  {
   "cell_type": "code",
   "execution_count": 30,
   "id": "9c177322",
   "metadata": {},
   "outputs": [
    {
     "data": {
      "text/html": [
       "<div>\n",
       "<style scoped>\n",
       "    .dataframe tbody tr th:only-of-type {\n",
       "        vertical-align: middle;\n",
       "    }\n",
       "\n",
       "    .dataframe tbody tr th {\n",
       "        vertical-align: top;\n",
       "    }\n",
       "\n",
       "    .dataframe thead th {\n",
       "        text-align: right;\n",
       "    }\n",
       "</style>\n",
       "<table border=\"1\" class=\"dataframe\">\n",
       "  <thead>\n",
       "    <tr style=\"text-align: right;\">\n",
       "      <th></th>\n",
       "      <th>NAME</th>\n",
       "      <th>Class</th>\n",
       "      <th>Computer</th>\n",
       "      <th>Science</th>\n",
       "    </tr>\n",
       "  </thead>\n",
       "  <tbody>\n",
       "    <tr>\n",
       "      <th>0</th>\n",
       "      <td>AAA</td>\n",
       "      <td>10</td>\n",
       "      <td>80</td>\n",
       "      <td>59</td>\n",
       "    </tr>\n",
       "    <tr>\n",
       "      <th>1</th>\n",
       "      <td>BBB</td>\n",
       "      <td>12</td>\n",
       "      <td>60</td>\n",
       "      <td>60</td>\n",
       "    </tr>\n",
       "    <tr>\n",
       "      <th>2</th>\n",
       "      <td>CCC</td>\n",
       "      <td>11</td>\n",
       "      <td>85</td>\n",
       "      <td>85</td>\n",
       "    </tr>\n",
       "    <tr>\n",
       "      <th>3</th>\n",
       "      <td>DDD</td>\n",
       "      <td>10</td>\n",
       "      <td>75</td>\n",
       "      <td>90</td>\n",
       "    </tr>\n",
       "  </tbody>\n",
       "</table>\n",
       "</div>"
      ],
      "text/plain": [
       "  NAME  Class  Computer  Science\n",
       "0  AAA     10        80       59\n",
       "1  BBB     12        60       60\n",
       "2  CCC     11        85       85\n",
       "3  DDD     10        75       90"
      ]
     },
     "execution_count": 30,
     "metadata": {},
     "output_type": "execute_result"
    }
   ],
   "source": [
    "df_std"
   ]
  },
  {
   "cell_type": "code",
   "execution_count": 26,
   "id": "02ccffae",
   "metadata": {},
   "outputs": [],
   "source": [
    "dic3 = {\n",
    "    \n",
    "    \"Name\" : [\"A\",\"B\",\"C\",\"D\"],\n",
    "    \"Class\" : np.arange(8, 15, 2),\n",
    "    \"English\" : pd.Series(np.random.randint(60,85,(4,)))\n",
    "    \n",
    "}"
   ]
  },
  {
   "cell_type": "code",
   "execution_count": 27,
   "id": "ed930850",
   "metadata": {},
   "outputs": [
    {
     "data": {
      "text/plain": [
       "{'Name': ['A', 'B', 'C', 'D'],\n",
       " 'Class': array([ 8, 10, 12, 14]),\n",
       " 'English': 0    66\n",
       " 1    67\n",
       " 2    84\n",
       " 3    83\n",
       " dtype: int32}"
      ]
     },
     "execution_count": 27,
     "metadata": {},
     "output_type": "execute_result"
    }
   ],
   "source": [
    "dic3"
   ]
  },
  {
   "cell_type": "code",
   "execution_count": 28,
   "id": "bdd51bac",
   "metadata": {},
   "outputs": [
    {
     "data": {
      "text/html": [
       "<div>\n",
       "<style scoped>\n",
       "    .dataframe tbody tr th:only-of-type {\n",
       "        vertical-align: middle;\n",
       "    }\n",
       "\n",
       "    .dataframe tbody tr th {\n",
       "        vertical-align: top;\n",
       "    }\n",
       "\n",
       "    .dataframe thead th {\n",
       "        text-align: right;\n",
       "    }\n",
       "</style>\n",
       "<table border=\"1\" class=\"dataframe\">\n",
       "  <thead>\n",
       "    <tr style=\"text-align: right;\">\n",
       "      <th></th>\n",
       "      <th>Name</th>\n",
       "      <th>Class</th>\n",
       "      <th>English</th>\n",
       "    </tr>\n",
       "  </thead>\n",
       "  <tbody>\n",
       "    <tr>\n",
       "      <th>0</th>\n",
       "      <td>A</td>\n",
       "      <td>8</td>\n",
       "      <td>66</td>\n",
       "    </tr>\n",
       "    <tr>\n",
       "      <th>1</th>\n",
       "      <td>B</td>\n",
       "      <td>10</td>\n",
       "      <td>67</td>\n",
       "    </tr>\n",
       "    <tr>\n",
       "      <th>2</th>\n",
       "      <td>C</td>\n",
       "      <td>12</td>\n",
       "      <td>84</td>\n",
       "    </tr>\n",
       "    <tr>\n",
       "      <th>3</th>\n",
       "      <td>D</td>\n",
       "      <td>14</td>\n",
       "      <td>83</td>\n",
       "    </tr>\n",
       "  </tbody>\n",
       "</table>\n",
       "</div>"
      ],
      "text/plain": [
       "  Name  Class  English\n",
       "0    A      8       66\n",
       "1    B     10       67\n",
       "2    C     12       84\n",
       "3    D     14       83"
      ]
     },
     "execution_count": 28,
     "metadata": {},
     "output_type": "execute_result"
    }
   ],
   "source": [
    "pd.DataFrame(dic3)"
   ]
  },
  {
   "cell_type": "markdown",
   "id": "a4e5c457",
   "metadata": {},
   "source": [
    "#### Manipulation with DataFrame"
   ]
  },
  {
   "cell_type": "code",
   "execution_count": 31,
   "id": "1ece3a93",
   "metadata": {},
   "outputs": [
    {
     "data": {
      "text/html": [
       "<div>\n",
       "<style scoped>\n",
       "    .dataframe tbody tr th:only-of-type {\n",
       "        vertical-align: middle;\n",
       "    }\n",
       "\n",
       "    .dataframe tbody tr th {\n",
       "        vertical-align: top;\n",
       "    }\n",
       "\n",
       "    .dataframe thead th {\n",
       "        text-align: right;\n",
       "    }\n",
       "</style>\n",
       "<table border=\"1\" class=\"dataframe\">\n",
       "  <thead>\n",
       "    <tr style=\"text-align: right;\">\n",
       "      <th></th>\n",
       "      <th>NAME</th>\n",
       "      <th>Class</th>\n",
       "      <th>Computer</th>\n",
       "      <th>Science</th>\n",
       "    </tr>\n",
       "  </thead>\n",
       "  <tbody>\n",
       "    <tr>\n",
       "      <th>0</th>\n",
       "      <td>AAA</td>\n",
       "      <td>10</td>\n",
       "      <td>80</td>\n",
       "      <td>59</td>\n",
       "    </tr>\n",
       "    <tr>\n",
       "      <th>1</th>\n",
       "      <td>BBB</td>\n",
       "      <td>12</td>\n",
       "      <td>60</td>\n",
       "      <td>60</td>\n",
       "    </tr>\n",
       "    <tr>\n",
       "      <th>2</th>\n",
       "      <td>CCC</td>\n",
       "      <td>11</td>\n",
       "      <td>85</td>\n",
       "      <td>85</td>\n",
       "    </tr>\n",
       "    <tr>\n",
       "      <th>3</th>\n",
       "      <td>DDD</td>\n",
       "      <td>10</td>\n",
       "      <td>75</td>\n",
       "      <td>90</td>\n",
       "    </tr>\n",
       "  </tbody>\n",
       "</table>\n",
       "</div>"
      ],
      "text/plain": [
       "  NAME  Class  Computer  Science\n",
       "0  AAA     10        80       59\n",
       "1  BBB     12        60       60\n",
       "2  CCC     11        85       85\n",
       "3  DDD     10        75       90"
      ]
     },
     "execution_count": 31,
     "metadata": {},
     "output_type": "execute_result"
    }
   ],
   "source": [
    "df_std"
   ]
  },
  {
   "cell_type": "code",
   "execution_count": 32,
   "id": "00bf8407",
   "metadata": {},
   "outputs": [
    {
     "data": {
      "text/plain": [
       "{'A': 100, 'B': 200, 'C': 300, 'D': 400}"
      ]
     },
     "execution_count": 32,
     "metadata": {},
     "output_type": "execute_result"
    }
   ],
   "source": [
    "dic1"
   ]
  },
  {
   "cell_type": "code",
   "execution_count": 33,
   "id": "6d81ea00",
   "metadata": {},
   "outputs": [],
   "source": [
    "dic1[\"E\"] = 'EGG'"
   ]
  },
  {
   "cell_type": "code",
   "execution_count": 36,
   "id": "641a0e3b",
   "metadata": {},
   "outputs": [
    {
     "data": {
      "text/plain": [
       "300"
      ]
     },
     "execution_count": 36,
     "metadata": {},
     "output_type": "execute_result"
    }
   ],
   "source": [
    "dic1[\"C\"]"
   ]
  },
  {
   "cell_type": "code",
   "execution_count": 34,
   "id": "6def15c0",
   "metadata": {
    "scrolled": true
   },
   "outputs": [
    {
     "data": {
      "text/plain": [
       "{'A': 100, 'B': 200, 'C': 300, 'D': 400, 'E': 'EGG'}"
      ]
     },
     "execution_count": 34,
     "metadata": {},
     "output_type": "execute_result"
    }
   ],
   "source": [
    "dic1"
   ]
  },
  {
   "cell_type": "code",
   "execution_count": 35,
   "id": "1fa3edef",
   "metadata": {},
   "outputs": [
    {
     "data": {
      "text/html": [
       "<div>\n",
       "<style scoped>\n",
       "    .dataframe tbody tr th:only-of-type {\n",
       "        vertical-align: middle;\n",
       "    }\n",
       "\n",
       "    .dataframe tbody tr th {\n",
       "        vertical-align: top;\n",
       "    }\n",
       "\n",
       "    .dataframe thead th {\n",
       "        text-align: right;\n",
       "    }\n",
       "</style>\n",
       "<table border=\"1\" class=\"dataframe\">\n",
       "  <thead>\n",
       "    <tr style=\"text-align: right;\">\n",
       "      <th></th>\n",
       "      <th>NAME</th>\n",
       "      <th>Class</th>\n",
       "      <th>Computer</th>\n",
       "      <th>Science</th>\n",
       "    </tr>\n",
       "  </thead>\n",
       "  <tbody>\n",
       "    <tr>\n",
       "      <th>0</th>\n",
       "      <td>AAA</td>\n",
       "      <td>10</td>\n",
       "      <td>80</td>\n",
       "      <td>59</td>\n",
       "    </tr>\n",
       "    <tr>\n",
       "      <th>1</th>\n",
       "      <td>BBB</td>\n",
       "      <td>12</td>\n",
       "      <td>60</td>\n",
       "      <td>60</td>\n",
       "    </tr>\n",
       "    <tr>\n",
       "      <th>2</th>\n",
       "      <td>CCC</td>\n",
       "      <td>11</td>\n",
       "      <td>85</td>\n",
       "      <td>85</td>\n",
       "    </tr>\n",
       "    <tr>\n",
       "      <th>3</th>\n",
       "      <td>DDD</td>\n",
       "      <td>10</td>\n",
       "      <td>75</td>\n",
       "      <td>90</td>\n",
       "    </tr>\n",
       "  </tbody>\n",
       "</table>\n",
       "</div>"
      ],
      "text/plain": [
       "  NAME  Class  Computer  Science\n",
       "0  AAA     10        80       59\n",
       "1  BBB     12        60       60\n",
       "2  CCC     11        85       85\n",
       "3  DDD     10        75       90"
      ]
     },
     "execution_count": 35,
     "metadata": {},
     "output_type": "execute_result"
    }
   ],
   "source": [
    "df_std"
   ]
  },
  {
   "cell_type": "code",
   "execution_count": 37,
   "id": "3d5a5dbd",
   "metadata": {},
   "outputs": [
    {
     "data": {
      "text/plain": [
       "0    80\n",
       "1    60\n",
       "2    85\n",
       "3    75\n",
       "Name: Computer, dtype: int64"
      ]
     },
     "execution_count": 37,
     "metadata": {},
     "output_type": "execute_result"
    }
   ],
   "source": [
    "df_std[\"Computer\"]"
   ]
  },
  {
   "cell_type": "code",
   "execution_count": 38,
   "id": "ebbaffa6",
   "metadata": {},
   "outputs": [
    {
     "data": {
      "text/plain": [
       "0    59\n",
       "1    60\n",
       "2    85\n",
       "3    90\n",
       "Name: Science, dtype: int64"
      ]
     },
     "execution_count": 38,
     "metadata": {},
     "output_type": "execute_result"
    }
   ],
   "source": [
    "df_std.Science"
   ]
  },
  {
   "cell_type": "code",
   "execution_count": 39,
   "id": "43e330a2",
   "metadata": {},
   "outputs": [
    {
     "data": {
      "text/html": [
       "<div>\n",
       "<style scoped>\n",
       "    .dataframe tbody tr th:only-of-type {\n",
       "        vertical-align: middle;\n",
       "    }\n",
       "\n",
       "    .dataframe tbody tr th {\n",
       "        vertical-align: top;\n",
       "    }\n",
       "\n",
       "    .dataframe thead th {\n",
       "        text-align: right;\n",
       "    }\n",
       "</style>\n",
       "<table border=\"1\" class=\"dataframe\">\n",
       "  <thead>\n",
       "    <tr style=\"text-align: right;\">\n",
       "      <th></th>\n",
       "      <th>NAME</th>\n",
       "      <th>Class</th>\n",
       "      <th>Computer</th>\n",
       "      <th>Science</th>\n",
       "    </tr>\n",
       "  </thead>\n",
       "  <tbody>\n",
       "    <tr>\n",
       "      <th>0</th>\n",
       "      <td>AAA</td>\n",
       "      <td>10</td>\n",
       "      <td>80</td>\n",
       "      <td>59</td>\n",
       "    </tr>\n",
       "    <tr>\n",
       "      <th>1</th>\n",
       "      <td>BBB</td>\n",
       "      <td>12</td>\n",
       "      <td>60</td>\n",
       "      <td>60</td>\n",
       "    </tr>\n",
       "    <tr>\n",
       "      <th>2</th>\n",
       "      <td>CCC</td>\n",
       "      <td>11</td>\n",
       "      <td>85</td>\n",
       "      <td>85</td>\n",
       "    </tr>\n",
       "    <tr>\n",
       "      <th>3</th>\n",
       "      <td>DDD</td>\n",
       "      <td>10</td>\n",
       "      <td>75</td>\n",
       "      <td>90</td>\n",
       "    </tr>\n",
       "  </tbody>\n",
       "</table>\n",
       "</div>"
      ],
      "text/plain": [
       "  NAME  Class  Computer  Science\n",
       "0  AAA     10        80       59\n",
       "1  BBB     12        60       60\n",
       "2  CCC     11        85       85\n",
       "3  DDD     10        75       90"
      ]
     },
     "execution_count": 39,
     "metadata": {},
     "output_type": "execute_result"
    }
   ],
   "source": [
    "df_std"
   ]
  },
  {
   "cell_type": "code",
   "execution_count": 45,
   "id": "5e34af05",
   "metadata": {},
   "outputs": [
    {
     "data": {
      "text/plain": [
       "0    80\n",
       "1    60\n",
       "2    85\n",
       "3    75\n",
       "Name: Computer, dtype: int64"
      ]
     },
     "execution_count": 45,
     "metadata": {},
     "output_type": "execute_result"
    }
   ],
   "source": [
    "df_std[\"Computer\"]"
   ]
  },
  {
   "cell_type": "code",
   "execution_count": 40,
   "id": "461cfbf6",
   "metadata": {},
   "outputs": [
    {
     "data": {
      "text/html": [
       "<div>\n",
       "<style scoped>\n",
       "    .dataframe tbody tr th:only-of-type {\n",
       "        vertical-align: middle;\n",
       "    }\n",
       "\n",
       "    .dataframe tbody tr th {\n",
       "        vertical-align: top;\n",
       "    }\n",
       "\n",
       "    .dataframe thead th {\n",
       "        text-align: right;\n",
       "    }\n",
       "</style>\n",
       "<table border=\"1\" class=\"dataframe\">\n",
       "  <thead>\n",
       "    <tr style=\"text-align: right;\">\n",
       "      <th></th>\n",
       "      <th>Computer</th>\n",
       "      <th>Science</th>\n",
       "    </tr>\n",
       "  </thead>\n",
       "  <tbody>\n",
       "    <tr>\n",
       "      <th>0</th>\n",
       "      <td>80</td>\n",
       "      <td>59</td>\n",
       "    </tr>\n",
       "    <tr>\n",
       "      <th>1</th>\n",
       "      <td>60</td>\n",
       "      <td>60</td>\n",
       "    </tr>\n",
       "    <tr>\n",
       "      <th>2</th>\n",
       "      <td>85</td>\n",
       "      <td>85</td>\n",
       "    </tr>\n",
       "    <tr>\n",
       "      <th>3</th>\n",
       "      <td>75</td>\n",
       "      <td>90</td>\n",
       "    </tr>\n",
       "  </tbody>\n",
       "</table>\n",
       "</div>"
      ],
      "text/plain": [
       "   Computer  Science\n",
       "0        80       59\n",
       "1        60       60\n",
       "2        85       85\n",
       "3        75       90"
      ]
     },
     "execution_count": 40,
     "metadata": {},
     "output_type": "execute_result"
    }
   ],
   "source": [
    "df_std[[\"Computer\", \"Science\"]]"
   ]
  },
  {
   "cell_type": "code",
   "execution_count": 41,
   "id": "14f7e846",
   "metadata": {},
   "outputs": [
    {
     "data": {
      "text/html": [
       "<div>\n",
       "<style scoped>\n",
       "    .dataframe tbody tr th:only-of-type {\n",
       "        vertical-align: middle;\n",
       "    }\n",
       "\n",
       "    .dataframe tbody tr th {\n",
       "        vertical-align: top;\n",
       "    }\n",
       "\n",
       "    .dataframe thead th {\n",
       "        text-align: right;\n",
       "    }\n",
       "</style>\n",
       "<table border=\"1\" class=\"dataframe\">\n",
       "  <thead>\n",
       "    <tr style=\"text-align: right;\">\n",
       "      <th></th>\n",
       "      <th>NAME</th>\n",
       "      <th>Class</th>\n",
       "      <th>Computer</th>\n",
       "      <th>Science</th>\n",
       "    </tr>\n",
       "  </thead>\n",
       "  <tbody>\n",
       "    <tr>\n",
       "      <th>0</th>\n",
       "      <td>AAA</td>\n",
       "      <td>10</td>\n",
       "      <td>80</td>\n",
       "      <td>59</td>\n",
       "    </tr>\n",
       "    <tr>\n",
       "      <th>1</th>\n",
       "      <td>BBB</td>\n",
       "      <td>12</td>\n",
       "      <td>60</td>\n",
       "      <td>60</td>\n",
       "    </tr>\n",
       "    <tr>\n",
       "      <th>2</th>\n",
       "      <td>CCC</td>\n",
       "      <td>11</td>\n",
       "      <td>85</td>\n",
       "      <td>85</td>\n",
       "    </tr>\n",
       "    <tr>\n",
       "      <th>3</th>\n",
       "      <td>DDD</td>\n",
       "      <td>10</td>\n",
       "      <td>75</td>\n",
       "      <td>90</td>\n",
       "    </tr>\n",
       "  </tbody>\n",
       "</table>\n",
       "</div>"
      ],
      "text/plain": [
       "  NAME  Class  Computer  Science\n",
       "0  AAA     10        80       59\n",
       "1  BBB     12        60       60\n",
       "2  CCC     11        85       85\n",
       "3  DDD     10        75       90"
      ]
     },
     "execution_count": 41,
     "metadata": {},
     "output_type": "execute_result"
    }
   ],
   "source": [
    "df_std"
   ]
  },
  {
   "cell_type": "code",
   "execution_count": 42,
   "id": "b9a40024",
   "metadata": {},
   "outputs": [
    {
     "data": {
      "text/html": [
       "<div>\n",
       "<style scoped>\n",
       "    .dataframe tbody tr th:only-of-type {\n",
       "        vertical-align: middle;\n",
       "    }\n",
       "\n",
       "    .dataframe tbody tr th {\n",
       "        vertical-align: top;\n",
       "    }\n",
       "\n",
       "    .dataframe thead th {\n",
       "        text-align: right;\n",
       "    }\n",
       "</style>\n",
       "<table border=\"1\" class=\"dataframe\">\n",
       "  <thead>\n",
       "    <tr style=\"text-align: right;\">\n",
       "      <th></th>\n",
       "      <th>NAME</th>\n",
       "      <th>Computer</th>\n",
       "      <th>Science</th>\n",
       "    </tr>\n",
       "  </thead>\n",
       "  <tbody>\n",
       "    <tr>\n",
       "      <th>0</th>\n",
       "      <td>AAA</td>\n",
       "      <td>80</td>\n",
       "      <td>59</td>\n",
       "    </tr>\n",
       "    <tr>\n",
       "      <th>1</th>\n",
       "      <td>BBB</td>\n",
       "      <td>60</td>\n",
       "      <td>60</td>\n",
       "    </tr>\n",
       "    <tr>\n",
       "      <th>2</th>\n",
       "      <td>CCC</td>\n",
       "      <td>85</td>\n",
       "      <td>85</td>\n",
       "    </tr>\n",
       "    <tr>\n",
       "      <th>3</th>\n",
       "      <td>DDD</td>\n",
       "      <td>75</td>\n",
       "      <td>90</td>\n",
       "    </tr>\n",
       "  </tbody>\n",
       "</table>\n",
       "</div>"
      ],
      "text/plain": [
       "  NAME  Computer  Science\n",
       "0  AAA        80       59\n",
       "1  BBB        60       60\n",
       "2  CCC        85       85\n",
       "3  DDD        75       90"
      ]
     },
     "execution_count": 42,
     "metadata": {},
     "output_type": "execute_result"
    }
   ],
   "source": [
    "df_std[[\"NAME\",\"Computer\",'Science']]"
   ]
  },
  {
   "cell_type": "code",
   "execution_count": 43,
   "id": "acada0ee",
   "metadata": {},
   "outputs": [
    {
     "data": {
      "text/plain": [
       "Index(['NAME', 'Class', 'Computer', 'Science'], dtype='object')"
      ]
     },
     "execution_count": 43,
     "metadata": {},
     "output_type": "execute_result"
    }
   ],
   "source": [
    "df_std.columns"
   ]
  },
  {
   "cell_type": "code",
   "execution_count": 44,
   "id": "25ca077b",
   "metadata": {},
   "outputs": [
    {
     "data": {
      "text/plain": [
       "RangeIndex(start=0, stop=4, step=1)"
      ]
     },
     "execution_count": 44,
     "metadata": {},
     "output_type": "execute_result"
    }
   ],
   "source": [
    "df_std.index"
   ]
  },
  {
   "cell_type": "code",
   "execution_count": 47,
   "id": "8212a2f1",
   "metadata": {},
   "outputs": [],
   "source": [
    "df_std[\"Maths\"] = [90,88,69,82]"
   ]
  },
  {
   "cell_type": "code",
   "execution_count": 48,
   "id": "6f8a26f8",
   "metadata": {},
   "outputs": [
    {
     "data": {
      "text/html": [
       "<div>\n",
       "<style scoped>\n",
       "    .dataframe tbody tr th:only-of-type {\n",
       "        vertical-align: middle;\n",
       "    }\n",
       "\n",
       "    .dataframe tbody tr th {\n",
       "        vertical-align: top;\n",
       "    }\n",
       "\n",
       "    .dataframe thead th {\n",
       "        text-align: right;\n",
       "    }\n",
       "</style>\n",
       "<table border=\"1\" class=\"dataframe\">\n",
       "  <thead>\n",
       "    <tr style=\"text-align: right;\">\n",
       "      <th></th>\n",
       "      <th>NAME</th>\n",
       "      <th>Class</th>\n",
       "      <th>Computer</th>\n",
       "      <th>Science</th>\n",
       "      <th>Maths</th>\n",
       "    </tr>\n",
       "  </thead>\n",
       "  <tbody>\n",
       "    <tr>\n",
       "      <th>0</th>\n",
       "      <td>AAA</td>\n",
       "      <td>10</td>\n",
       "      <td>80</td>\n",
       "      <td>59</td>\n",
       "      <td>90</td>\n",
       "    </tr>\n",
       "    <tr>\n",
       "      <th>1</th>\n",
       "      <td>BBB</td>\n",
       "      <td>12</td>\n",
       "      <td>60</td>\n",
       "      <td>60</td>\n",
       "      <td>88</td>\n",
       "    </tr>\n",
       "    <tr>\n",
       "      <th>2</th>\n",
       "      <td>CCC</td>\n",
       "      <td>11</td>\n",
       "      <td>85</td>\n",
       "      <td>85</td>\n",
       "      <td>69</td>\n",
       "    </tr>\n",
       "    <tr>\n",
       "      <th>3</th>\n",
       "      <td>DDD</td>\n",
       "      <td>10</td>\n",
       "      <td>75</td>\n",
       "      <td>90</td>\n",
       "      <td>82</td>\n",
       "    </tr>\n",
       "  </tbody>\n",
       "</table>\n",
       "</div>"
      ],
      "text/plain": [
       "  NAME  Class  Computer  Science  Maths\n",
       "0  AAA     10        80       59     90\n",
       "1  BBB     12        60       60     88\n",
       "2  CCC     11        85       85     69\n",
       "3  DDD     10        75       90     82"
      ]
     },
     "execution_count": 48,
     "metadata": {},
     "output_type": "execute_result"
    }
   ],
   "source": [
    "df_std"
   ]
  },
  {
   "cell_type": "code",
   "execution_count": 50,
   "id": "d08cd33a",
   "metadata": {},
   "outputs": [],
   "source": [
    "df_std[\"Total\"] = np.NaN"
   ]
  },
  {
   "cell_type": "code",
   "execution_count": 51,
   "id": "ca2fc097",
   "metadata": {},
   "outputs": [
    {
     "data": {
      "text/html": [
       "<div>\n",
       "<style scoped>\n",
       "    .dataframe tbody tr th:only-of-type {\n",
       "        vertical-align: middle;\n",
       "    }\n",
       "\n",
       "    .dataframe tbody tr th {\n",
       "        vertical-align: top;\n",
       "    }\n",
       "\n",
       "    .dataframe thead th {\n",
       "        text-align: right;\n",
       "    }\n",
       "</style>\n",
       "<table border=\"1\" class=\"dataframe\">\n",
       "  <thead>\n",
       "    <tr style=\"text-align: right;\">\n",
       "      <th></th>\n",
       "      <th>NAME</th>\n",
       "      <th>Class</th>\n",
       "      <th>Computer</th>\n",
       "      <th>Science</th>\n",
       "      <th>Maths</th>\n",
       "      <th>Total</th>\n",
       "    </tr>\n",
       "  </thead>\n",
       "  <tbody>\n",
       "    <tr>\n",
       "      <th>0</th>\n",
       "      <td>AAA</td>\n",
       "      <td>10</td>\n",
       "      <td>80</td>\n",
       "      <td>59</td>\n",
       "      <td>90</td>\n",
       "      <td>NaN</td>\n",
       "    </tr>\n",
       "    <tr>\n",
       "      <th>1</th>\n",
       "      <td>BBB</td>\n",
       "      <td>12</td>\n",
       "      <td>60</td>\n",
       "      <td>60</td>\n",
       "      <td>88</td>\n",
       "      <td>NaN</td>\n",
       "    </tr>\n",
       "    <tr>\n",
       "      <th>2</th>\n",
       "      <td>CCC</td>\n",
       "      <td>11</td>\n",
       "      <td>85</td>\n",
       "      <td>85</td>\n",
       "      <td>69</td>\n",
       "      <td>NaN</td>\n",
       "    </tr>\n",
       "    <tr>\n",
       "      <th>3</th>\n",
       "      <td>DDD</td>\n",
       "      <td>10</td>\n",
       "      <td>75</td>\n",
       "      <td>90</td>\n",
       "      <td>82</td>\n",
       "      <td>NaN</td>\n",
       "    </tr>\n",
       "  </tbody>\n",
       "</table>\n",
       "</div>"
      ],
      "text/plain": [
       "  NAME  Class  Computer  Science  Maths  Total\n",
       "0  AAA     10        80       59     90    NaN\n",
       "1  BBB     12        60       60     88    NaN\n",
       "2  CCC     11        85       85     69    NaN\n",
       "3  DDD     10        75       90     82    NaN"
      ]
     },
     "execution_count": 51,
     "metadata": {},
     "output_type": "execute_result"
    }
   ],
   "source": [
    "df_std"
   ]
  },
  {
   "cell_type": "code",
   "execution_count": 52,
   "id": "257484a5",
   "metadata": {},
   "outputs": [],
   "source": [
    "df_std[\"Total\"] = 200"
   ]
  },
  {
   "cell_type": "code",
   "execution_count": 53,
   "id": "58f72cd2",
   "metadata": {},
   "outputs": [
    {
     "data": {
      "text/html": [
       "<div>\n",
       "<style scoped>\n",
       "    .dataframe tbody tr th:only-of-type {\n",
       "        vertical-align: middle;\n",
       "    }\n",
       "\n",
       "    .dataframe tbody tr th {\n",
       "        vertical-align: top;\n",
       "    }\n",
       "\n",
       "    .dataframe thead th {\n",
       "        text-align: right;\n",
       "    }\n",
       "</style>\n",
       "<table border=\"1\" class=\"dataframe\">\n",
       "  <thead>\n",
       "    <tr style=\"text-align: right;\">\n",
       "      <th></th>\n",
       "      <th>NAME</th>\n",
       "      <th>Class</th>\n",
       "      <th>Computer</th>\n",
       "      <th>Science</th>\n",
       "      <th>Maths</th>\n",
       "      <th>Total</th>\n",
       "    </tr>\n",
       "  </thead>\n",
       "  <tbody>\n",
       "    <tr>\n",
       "      <th>0</th>\n",
       "      <td>AAA</td>\n",
       "      <td>10</td>\n",
       "      <td>80</td>\n",
       "      <td>59</td>\n",
       "      <td>90</td>\n",
       "      <td>200</td>\n",
       "    </tr>\n",
       "    <tr>\n",
       "      <th>1</th>\n",
       "      <td>BBB</td>\n",
       "      <td>12</td>\n",
       "      <td>60</td>\n",
       "      <td>60</td>\n",
       "      <td>88</td>\n",
       "      <td>200</td>\n",
       "    </tr>\n",
       "    <tr>\n",
       "      <th>2</th>\n",
       "      <td>CCC</td>\n",
       "      <td>11</td>\n",
       "      <td>85</td>\n",
       "      <td>85</td>\n",
       "      <td>69</td>\n",
       "      <td>200</td>\n",
       "    </tr>\n",
       "    <tr>\n",
       "      <th>3</th>\n",
       "      <td>DDD</td>\n",
       "      <td>10</td>\n",
       "      <td>75</td>\n",
       "      <td>90</td>\n",
       "      <td>82</td>\n",
       "      <td>200</td>\n",
       "    </tr>\n",
       "  </tbody>\n",
       "</table>\n",
       "</div>"
      ],
      "text/plain": [
       "  NAME  Class  Computer  Science  Maths  Total\n",
       "0  AAA     10        80       59     90    200\n",
       "1  BBB     12        60       60     88    200\n",
       "2  CCC     11        85       85     69    200\n",
       "3  DDD     10        75       90     82    200"
      ]
     },
     "execution_count": 53,
     "metadata": {},
     "output_type": "execute_result"
    }
   ],
   "source": [
    "df_std"
   ]
  },
  {
   "cell_type": "code",
   "execution_count": 55,
   "id": "c1dc4951",
   "metadata": {},
   "outputs": [],
   "source": [
    "del df_std[\"Total\"]"
   ]
  },
  {
   "cell_type": "code",
   "execution_count": 56,
   "id": "cb1ce62f",
   "metadata": {},
   "outputs": [
    {
     "data": {
      "text/html": [
       "<div>\n",
       "<style scoped>\n",
       "    .dataframe tbody tr th:only-of-type {\n",
       "        vertical-align: middle;\n",
       "    }\n",
       "\n",
       "    .dataframe tbody tr th {\n",
       "        vertical-align: top;\n",
       "    }\n",
       "\n",
       "    .dataframe thead th {\n",
       "        text-align: right;\n",
       "    }\n",
       "</style>\n",
       "<table border=\"1\" class=\"dataframe\">\n",
       "  <thead>\n",
       "    <tr style=\"text-align: right;\">\n",
       "      <th></th>\n",
       "      <th>NAME</th>\n",
       "      <th>Class</th>\n",
       "      <th>Computer</th>\n",
       "      <th>Science</th>\n",
       "      <th>Maths</th>\n",
       "    </tr>\n",
       "  </thead>\n",
       "  <tbody>\n",
       "    <tr>\n",
       "      <th>0</th>\n",
       "      <td>AAA</td>\n",
       "      <td>10</td>\n",
       "      <td>80</td>\n",
       "      <td>59</td>\n",
       "      <td>90</td>\n",
       "    </tr>\n",
       "    <tr>\n",
       "      <th>1</th>\n",
       "      <td>BBB</td>\n",
       "      <td>12</td>\n",
       "      <td>60</td>\n",
       "      <td>60</td>\n",
       "      <td>88</td>\n",
       "    </tr>\n",
       "    <tr>\n",
       "      <th>2</th>\n",
       "      <td>CCC</td>\n",
       "      <td>11</td>\n",
       "      <td>85</td>\n",
       "      <td>85</td>\n",
       "      <td>69</td>\n",
       "    </tr>\n",
       "    <tr>\n",
       "      <th>3</th>\n",
       "      <td>DDD</td>\n",
       "      <td>10</td>\n",
       "      <td>75</td>\n",
       "      <td>90</td>\n",
       "      <td>82</td>\n",
       "    </tr>\n",
       "  </tbody>\n",
       "</table>\n",
       "</div>"
      ],
      "text/plain": [
       "  NAME  Class  Computer  Science  Maths\n",
       "0  AAA     10        80       59     90\n",
       "1  BBB     12        60       60     88\n",
       "2  CCC     11        85       85     69\n",
       "3  DDD     10        75       90     82"
      ]
     },
     "execution_count": 56,
     "metadata": {},
     "output_type": "execute_result"
    }
   ],
   "source": [
    "df_std"
   ]
  },
  {
   "cell_type": "code",
   "execution_count": 57,
   "id": "d87bef3c",
   "metadata": {},
   "outputs": [],
   "source": [
    "df_std[\"Total\"] = df_std[\"Computer\"] + df_std[\"Science\"] + df_std[\"Maths\"]"
   ]
  },
  {
   "cell_type": "code",
   "execution_count": 58,
   "id": "29277e21",
   "metadata": {},
   "outputs": [
    {
     "data": {
      "text/html": [
       "<div>\n",
       "<style scoped>\n",
       "    .dataframe tbody tr th:only-of-type {\n",
       "        vertical-align: middle;\n",
       "    }\n",
       "\n",
       "    .dataframe tbody tr th {\n",
       "        vertical-align: top;\n",
       "    }\n",
       "\n",
       "    .dataframe thead th {\n",
       "        text-align: right;\n",
       "    }\n",
       "</style>\n",
       "<table border=\"1\" class=\"dataframe\">\n",
       "  <thead>\n",
       "    <tr style=\"text-align: right;\">\n",
       "      <th></th>\n",
       "      <th>NAME</th>\n",
       "      <th>Class</th>\n",
       "      <th>Computer</th>\n",
       "      <th>Science</th>\n",
       "      <th>Maths</th>\n",
       "      <th>Total</th>\n",
       "    </tr>\n",
       "  </thead>\n",
       "  <tbody>\n",
       "    <tr>\n",
       "      <th>0</th>\n",
       "      <td>AAA</td>\n",
       "      <td>10</td>\n",
       "      <td>80</td>\n",
       "      <td>59</td>\n",
       "      <td>90</td>\n",
       "      <td>229</td>\n",
       "    </tr>\n",
       "    <tr>\n",
       "      <th>1</th>\n",
       "      <td>BBB</td>\n",
       "      <td>12</td>\n",
       "      <td>60</td>\n",
       "      <td>60</td>\n",
       "      <td>88</td>\n",
       "      <td>208</td>\n",
       "    </tr>\n",
       "    <tr>\n",
       "      <th>2</th>\n",
       "      <td>CCC</td>\n",
       "      <td>11</td>\n",
       "      <td>85</td>\n",
       "      <td>85</td>\n",
       "      <td>69</td>\n",
       "      <td>239</td>\n",
       "    </tr>\n",
       "    <tr>\n",
       "      <th>3</th>\n",
       "      <td>DDD</td>\n",
       "      <td>10</td>\n",
       "      <td>75</td>\n",
       "      <td>90</td>\n",
       "      <td>82</td>\n",
       "      <td>247</td>\n",
       "    </tr>\n",
       "  </tbody>\n",
       "</table>\n",
       "</div>"
      ],
      "text/plain": [
       "  NAME  Class  Computer  Science  Maths  Total\n",
       "0  AAA     10        80       59     90    229\n",
       "1  BBB     12        60       60     88    208\n",
       "2  CCC     11        85       85     69    239\n",
       "3  DDD     10        75       90     82    247"
      ]
     },
     "execution_count": 58,
     "metadata": {},
     "output_type": "execute_result"
    }
   ],
   "source": [
    "df_std"
   ]
  },
  {
   "cell_type": "code",
   "execution_count": 59,
   "id": "97989a14",
   "metadata": {},
   "outputs": [],
   "source": [
    "df_std[\"Average\"] = df_std[\"Total\"] / 3"
   ]
  },
  {
   "cell_type": "code",
   "execution_count": 60,
   "id": "babba148",
   "metadata": {},
   "outputs": [
    {
     "data": {
      "text/html": [
       "<div>\n",
       "<style scoped>\n",
       "    .dataframe tbody tr th:only-of-type {\n",
       "        vertical-align: middle;\n",
       "    }\n",
       "\n",
       "    .dataframe tbody tr th {\n",
       "        vertical-align: top;\n",
       "    }\n",
       "\n",
       "    .dataframe thead th {\n",
       "        text-align: right;\n",
       "    }\n",
       "</style>\n",
       "<table border=\"1\" class=\"dataframe\">\n",
       "  <thead>\n",
       "    <tr style=\"text-align: right;\">\n",
       "      <th></th>\n",
       "      <th>NAME</th>\n",
       "      <th>Class</th>\n",
       "      <th>Computer</th>\n",
       "      <th>Science</th>\n",
       "      <th>Maths</th>\n",
       "      <th>Total</th>\n",
       "      <th>Average</th>\n",
       "    </tr>\n",
       "  </thead>\n",
       "  <tbody>\n",
       "    <tr>\n",
       "      <th>0</th>\n",
       "      <td>AAA</td>\n",
       "      <td>10</td>\n",
       "      <td>80</td>\n",
       "      <td>59</td>\n",
       "      <td>90</td>\n",
       "      <td>229</td>\n",
       "      <td>76.333333</td>\n",
       "    </tr>\n",
       "    <tr>\n",
       "      <th>1</th>\n",
       "      <td>BBB</td>\n",
       "      <td>12</td>\n",
       "      <td>60</td>\n",
       "      <td>60</td>\n",
       "      <td>88</td>\n",
       "      <td>208</td>\n",
       "      <td>69.333333</td>\n",
       "    </tr>\n",
       "    <tr>\n",
       "      <th>2</th>\n",
       "      <td>CCC</td>\n",
       "      <td>11</td>\n",
       "      <td>85</td>\n",
       "      <td>85</td>\n",
       "      <td>69</td>\n",
       "      <td>239</td>\n",
       "      <td>79.666667</td>\n",
       "    </tr>\n",
       "    <tr>\n",
       "      <th>3</th>\n",
       "      <td>DDD</td>\n",
       "      <td>10</td>\n",
       "      <td>75</td>\n",
       "      <td>90</td>\n",
       "      <td>82</td>\n",
       "      <td>247</td>\n",
       "      <td>82.333333</td>\n",
       "    </tr>\n",
       "  </tbody>\n",
       "</table>\n",
       "</div>"
      ],
      "text/plain": [
       "  NAME  Class  Computer  Science  Maths  Total    Average\n",
       "0  AAA     10        80       59     90    229  76.333333\n",
       "1  BBB     12        60       60     88    208  69.333333\n",
       "2  CCC     11        85       85     69    239  79.666667\n",
       "3  DDD     10        75       90     82    247  82.333333"
      ]
     },
     "execution_count": 60,
     "metadata": {},
     "output_type": "execute_result"
    }
   ],
   "source": [
    "df_std"
   ]
  },
  {
   "cell_type": "code",
   "execution_count": 61,
   "id": "b7d72656",
   "metadata": {},
   "outputs": [
    {
     "data": {
      "text/plain": [
       "0    76.333333\n",
       "1    69.333333\n",
       "2    79.666667\n",
       "3    82.333333\n",
       "Name: Average, dtype: float64"
      ]
     },
     "execution_count": 61,
     "metadata": {},
     "output_type": "execute_result"
    }
   ],
   "source": [
    "df_std[\"Average\"]"
   ]
  },
  {
   "cell_type": "code",
   "execution_count": 62,
   "id": "feaf6220",
   "metadata": {},
   "outputs": [
    {
     "data": {
      "text/plain": [
       "0    76.0\n",
       "1    69.0\n",
       "2    80.0\n",
       "3    82.0\n",
       "Name: Average, dtype: float64"
      ]
     },
     "execution_count": 62,
     "metadata": {},
     "output_type": "execute_result"
    }
   ],
   "source": [
    "np.round(df_std[\"Average\"])"
   ]
  },
  {
   "cell_type": "code",
   "execution_count": 63,
   "id": "20a3ea0e",
   "metadata": {},
   "outputs": [],
   "source": [
    "df_std[\"Average\"] = np.round(df_std[\"Average\"])"
   ]
  },
  {
   "cell_type": "code",
   "execution_count": 64,
   "id": "050dff82",
   "metadata": {},
   "outputs": [
    {
     "data": {
      "text/html": [
       "<div>\n",
       "<style scoped>\n",
       "    .dataframe tbody tr th:only-of-type {\n",
       "        vertical-align: middle;\n",
       "    }\n",
       "\n",
       "    .dataframe tbody tr th {\n",
       "        vertical-align: top;\n",
       "    }\n",
       "\n",
       "    .dataframe thead th {\n",
       "        text-align: right;\n",
       "    }\n",
       "</style>\n",
       "<table border=\"1\" class=\"dataframe\">\n",
       "  <thead>\n",
       "    <tr style=\"text-align: right;\">\n",
       "      <th></th>\n",
       "      <th>NAME</th>\n",
       "      <th>Class</th>\n",
       "      <th>Computer</th>\n",
       "      <th>Science</th>\n",
       "      <th>Maths</th>\n",
       "      <th>Total</th>\n",
       "      <th>Average</th>\n",
       "    </tr>\n",
       "  </thead>\n",
       "  <tbody>\n",
       "    <tr>\n",
       "      <th>0</th>\n",
       "      <td>AAA</td>\n",
       "      <td>10</td>\n",
       "      <td>80</td>\n",
       "      <td>59</td>\n",
       "      <td>90</td>\n",
       "      <td>229</td>\n",
       "      <td>76.0</td>\n",
       "    </tr>\n",
       "    <tr>\n",
       "      <th>1</th>\n",
       "      <td>BBB</td>\n",
       "      <td>12</td>\n",
       "      <td>60</td>\n",
       "      <td>60</td>\n",
       "      <td>88</td>\n",
       "      <td>208</td>\n",
       "      <td>69.0</td>\n",
       "    </tr>\n",
       "    <tr>\n",
       "      <th>2</th>\n",
       "      <td>CCC</td>\n",
       "      <td>11</td>\n",
       "      <td>85</td>\n",
       "      <td>85</td>\n",
       "      <td>69</td>\n",
       "      <td>239</td>\n",
       "      <td>80.0</td>\n",
       "    </tr>\n",
       "    <tr>\n",
       "      <th>3</th>\n",
       "      <td>DDD</td>\n",
       "      <td>10</td>\n",
       "      <td>75</td>\n",
       "      <td>90</td>\n",
       "      <td>82</td>\n",
       "      <td>247</td>\n",
       "      <td>82.0</td>\n",
       "    </tr>\n",
       "  </tbody>\n",
       "</table>\n",
       "</div>"
      ],
      "text/plain": [
       "  NAME  Class  Computer  Science  Maths  Total  Average\n",
       "0  AAA     10        80       59     90    229     76.0\n",
       "1  BBB     12        60       60     88    208     69.0\n",
       "2  CCC     11        85       85     69    239     80.0\n",
       "3  DDD     10        75       90     82    247     82.0"
      ]
     },
     "execution_count": 64,
     "metadata": {},
     "output_type": "execute_result"
    }
   ],
   "source": [
    "df_std"
   ]
  },
  {
   "cell_type": "code",
   "execution_count": 65,
   "id": "7c520f6e",
   "metadata": {},
   "outputs": [
    {
     "data": {
      "text/plain": [
       "0    80\n",
       "1    60\n",
       "2    85\n",
       "3    75\n",
       "Name: Computer, dtype: int64"
      ]
     },
     "execution_count": 65,
     "metadata": {},
     "output_type": "execute_result"
    }
   ],
   "source": [
    "df_std[\"Computer\"]"
   ]
  },
  {
   "cell_type": "code",
   "execution_count": 66,
   "id": "afd83804",
   "metadata": {},
   "outputs": [
    {
     "data": {
      "text/html": [
       "<div>\n",
       "<style scoped>\n",
       "    .dataframe tbody tr th:only-of-type {\n",
       "        vertical-align: middle;\n",
       "    }\n",
       "\n",
       "    .dataframe tbody tr th {\n",
       "        vertical-align: top;\n",
       "    }\n",
       "\n",
       "    .dataframe thead th {\n",
       "        text-align: right;\n",
       "    }\n",
       "</style>\n",
       "<table border=\"1\" class=\"dataframe\">\n",
       "  <thead>\n",
       "    <tr style=\"text-align: right;\">\n",
       "      <th></th>\n",
       "      <th>Computer</th>\n",
       "    </tr>\n",
       "  </thead>\n",
       "  <tbody>\n",
       "    <tr>\n",
       "      <th>0</th>\n",
       "      <td>80</td>\n",
       "    </tr>\n",
       "    <tr>\n",
       "      <th>1</th>\n",
       "      <td>60</td>\n",
       "    </tr>\n",
       "    <tr>\n",
       "      <th>2</th>\n",
       "      <td>85</td>\n",
       "    </tr>\n",
       "    <tr>\n",
       "      <th>3</th>\n",
       "      <td>75</td>\n",
       "    </tr>\n",
       "  </tbody>\n",
       "</table>\n",
       "</div>"
      ],
      "text/plain": [
       "   Computer\n",
       "0        80\n",
       "1        60\n",
       "2        85\n",
       "3        75"
      ]
     },
     "execution_count": 66,
     "metadata": {},
     "output_type": "execute_result"
    }
   ],
   "source": [
    "pd.DataFrame(df_std[\"Computer\"])"
   ]
  },
  {
   "cell_type": "code",
   "execution_count": 68,
   "id": "498d22d6",
   "metadata": {},
   "outputs": [
    {
     "data": {
      "text/html": [
       "<div>\n",
       "<style scoped>\n",
       "    .dataframe tbody tr th:only-of-type {\n",
       "        vertical-align: middle;\n",
       "    }\n",
       "\n",
       "    .dataframe tbody tr th {\n",
       "        vertical-align: top;\n",
       "    }\n",
       "\n",
       "    .dataframe thead th {\n",
       "        text-align: right;\n",
       "    }\n",
       "</style>\n",
       "<table border=\"1\" class=\"dataframe\">\n",
       "  <thead>\n",
       "    <tr style=\"text-align: right;\">\n",
       "      <th></th>\n",
       "      <th>Computer</th>\n",
       "    </tr>\n",
       "  </thead>\n",
       "  <tbody>\n",
       "    <tr>\n",
       "      <th>0</th>\n",
       "      <td>80</td>\n",
       "    </tr>\n",
       "    <tr>\n",
       "      <th>1</th>\n",
       "      <td>60</td>\n",
       "    </tr>\n",
       "    <tr>\n",
       "      <th>2</th>\n",
       "      <td>85</td>\n",
       "    </tr>\n",
       "    <tr>\n",
       "      <th>3</th>\n",
       "      <td>75</td>\n",
       "    </tr>\n",
       "  </tbody>\n",
       "</table>\n",
       "</div>"
      ],
      "text/plain": [
       "   Computer\n",
       "0        80\n",
       "1        60\n",
       "2        85\n",
       "3        75"
      ]
     },
     "execution_count": 68,
     "metadata": {},
     "output_type": "execute_result"
    }
   ],
   "source": [
    "df_std[[\"Computer\"]]"
   ]
  },
  {
   "cell_type": "code",
   "execution_count": 69,
   "id": "d876c02a",
   "metadata": {},
   "outputs": [
    {
     "data": {
      "text/html": [
       "<div>\n",
       "<style scoped>\n",
       "    .dataframe tbody tr th:only-of-type {\n",
       "        vertical-align: middle;\n",
       "    }\n",
       "\n",
       "    .dataframe tbody tr th {\n",
       "        vertical-align: top;\n",
       "    }\n",
       "\n",
       "    .dataframe thead th {\n",
       "        text-align: right;\n",
       "    }\n",
       "</style>\n",
       "<table border=\"1\" class=\"dataframe\">\n",
       "  <thead>\n",
       "    <tr style=\"text-align: right;\">\n",
       "      <th></th>\n",
       "      <th>NAME</th>\n",
       "      <th>Class</th>\n",
       "      <th>Computer</th>\n",
       "      <th>Science</th>\n",
       "      <th>Maths</th>\n",
       "      <th>Total</th>\n",
       "      <th>Average</th>\n",
       "    </tr>\n",
       "  </thead>\n",
       "  <tbody>\n",
       "    <tr>\n",
       "      <th>0</th>\n",
       "      <td>AAA</td>\n",
       "      <td>10</td>\n",
       "      <td>80</td>\n",
       "      <td>59</td>\n",
       "      <td>90</td>\n",
       "      <td>229</td>\n",
       "      <td>76.0</td>\n",
       "    </tr>\n",
       "    <tr>\n",
       "      <th>1</th>\n",
       "      <td>BBB</td>\n",
       "      <td>12</td>\n",
       "      <td>60</td>\n",
       "      <td>60</td>\n",
       "      <td>88</td>\n",
       "      <td>208</td>\n",
       "      <td>69.0</td>\n",
       "    </tr>\n",
       "    <tr>\n",
       "      <th>2</th>\n",
       "      <td>CCC</td>\n",
       "      <td>11</td>\n",
       "      <td>85</td>\n",
       "      <td>85</td>\n",
       "      <td>69</td>\n",
       "      <td>239</td>\n",
       "      <td>80.0</td>\n",
       "    </tr>\n",
       "    <tr>\n",
       "      <th>3</th>\n",
       "      <td>DDD</td>\n",
       "      <td>10</td>\n",
       "      <td>75</td>\n",
       "      <td>90</td>\n",
       "      <td>82</td>\n",
       "      <td>247</td>\n",
       "      <td>82.0</td>\n",
       "    </tr>\n",
       "  </tbody>\n",
       "</table>\n",
       "</div>"
      ],
      "text/plain": [
       "  NAME  Class  Computer  Science  Maths  Total  Average\n",
       "0  AAA     10        80       59     90    229     76.0\n",
       "1  BBB     12        60       60     88    208     69.0\n",
       "2  CCC     11        85       85     69    239     80.0\n",
       "3  DDD     10        75       90     82    247     82.0"
      ]
     },
     "execution_count": 69,
     "metadata": {},
     "output_type": "execute_result"
    }
   ],
   "source": [
    "df_std"
   ]
  },
  {
   "cell_type": "code",
   "execution_count": null,
   "id": "6f389943",
   "metadata": {},
   "outputs": [],
   "source": []
  },
  {
   "cell_type": "code",
   "execution_count": 71,
   "id": "7b282aed",
   "metadata": {},
   "outputs": [
    {
     "data": {
      "text/plain": [
       "0    76.0\n",
       "1    69.0\n",
       "2    80.0\n",
       "3    82.0\n",
       "Name: Average, dtype: float64"
      ]
     },
     "execution_count": 71,
     "metadata": {},
     "output_type": "execute_result"
    }
   ],
   "source": [
    "df_std[\"Average\"]"
   ]
  },
  {
   "cell_type": "code",
   "execution_count": 75,
   "id": "e57832c5",
   "metadata": {},
   "outputs": [],
   "source": [
    "df_std[\"Grade\"] = np.NaN"
   ]
  },
  {
   "cell_type": "code",
   "execution_count": 76,
   "id": "4a1817ee",
   "metadata": {},
   "outputs": [
    {
     "data": {
      "text/html": [
       "<div>\n",
       "<style scoped>\n",
       "    .dataframe tbody tr th:only-of-type {\n",
       "        vertical-align: middle;\n",
       "    }\n",
       "\n",
       "    .dataframe tbody tr th {\n",
       "        vertical-align: top;\n",
       "    }\n",
       "\n",
       "    .dataframe thead th {\n",
       "        text-align: right;\n",
       "    }\n",
       "</style>\n",
       "<table border=\"1\" class=\"dataframe\">\n",
       "  <thead>\n",
       "    <tr style=\"text-align: right;\">\n",
       "      <th></th>\n",
       "      <th>NAME</th>\n",
       "      <th>Class</th>\n",
       "      <th>Computer</th>\n",
       "      <th>Science</th>\n",
       "      <th>Maths</th>\n",
       "      <th>Total</th>\n",
       "      <th>Average</th>\n",
       "      <th>Grade</th>\n",
       "    </tr>\n",
       "  </thead>\n",
       "  <tbody>\n",
       "    <tr>\n",
       "      <th>0</th>\n",
       "      <td>AAA</td>\n",
       "      <td>10</td>\n",
       "      <td>80</td>\n",
       "      <td>59</td>\n",
       "      <td>90</td>\n",
       "      <td>229</td>\n",
       "      <td>76.0</td>\n",
       "      <td>NaN</td>\n",
       "    </tr>\n",
       "    <tr>\n",
       "      <th>1</th>\n",
       "      <td>BBB</td>\n",
       "      <td>12</td>\n",
       "      <td>60</td>\n",
       "      <td>60</td>\n",
       "      <td>88</td>\n",
       "      <td>208</td>\n",
       "      <td>69.0</td>\n",
       "      <td>NaN</td>\n",
       "    </tr>\n",
       "    <tr>\n",
       "      <th>2</th>\n",
       "      <td>CCC</td>\n",
       "      <td>11</td>\n",
       "      <td>85</td>\n",
       "      <td>85</td>\n",
       "      <td>69</td>\n",
       "      <td>239</td>\n",
       "      <td>80.0</td>\n",
       "      <td>NaN</td>\n",
       "    </tr>\n",
       "    <tr>\n",
       "      <th>3</th>\n",
       "      <td>DDD</td>\n",
       "      <td>10</td>\n",
       "      <td>75</td>\n",
       "      <td>90</td>\n",
       "      <td>82</td>\n",
       "      <td>247</td>\n",
       "      <td>82.0</td>\n",
       "      <td>NaN</td>\n",
       "    </tr>\n",
       "  </tbody>\n",
       "</table>\n",
       "</div>"
      ],
      "text/plain": [
       "  NAME  Class  Computer  Science  Maths  Total  Average  Grade\n",
       "0  AAA     10        80       59     90    229     76.0    NaN\n",
       "1  BBB     12        60       60     88    208     69.0    NaN\n",
       "2  CCC     11        85       85     69    239     80.0    NaN\n",
       "3  DDD     10        75       90     82    247     82.0    NaN"
      ]
     },
     "execution_count": 76,
     "metadata": {},
     "output_type": "execute_result"
    }
   ],
   "source": [
    "df_std"
   ]
  },
  {
   "cell_type": "code",
   "execution_count": 77,
   "id": "d27c91a7",
   "metadata": {},
   "outputs": [
    {
     "name": "stdout",
     "output_type": "stream",
     "text": [
      "76.0\n",
      "69.0\n",
      "80.0\n",
      "82.0\n"
     ]
    },
    {
     "name": "stderr",
     "output_type": "stream",
     "text": [
      "C:\\Users\\ARJUNY~1\\AppData\\Local\\Temp/ipykernel_7744/2345260933.py:8: SettingWithCopyWarning: \n",
      "A value is trying to be set on a copy of a slice from a DataFrame\n",
      "\n",
      "See the caveats in the documentation: https://pandas.pydata.org/pandas-docs/stable/user_guide/indexing.html#returning-a-view-versus-a-copy\n",
      "  df_std[\"Grade\"][x] = \"B\"\n",
      "C:\\Users\\Arjun Yadav\\anaconda3\\lib\\site-packages\\pandas\\core\\indexing.py:1732: SettingWithCopyWarning: \n",
      "A value is trying to be set on a copy of a slice from a DataFrame\n",
      "\n",
      "See the caveats in the documentation: https://pandas.pydata.org/pandas-docs/stable/user_guide/indexing.html#returning-a-view-versus-a-copy\n",
      "  self._setitem_single_block(indexer, value, name)\n"
     ]
    }
   ],
   "source": [
    "import time\n",
    "x = 0\n",
    "for i in df_std[\"Average\"]:\n",
    "    print(i)\n",
    "    if i >= 80 :\n",
    "        df_std[\"Grade\"][x] = \"A\"\n",
    "    elif i >= 70:\n",
    "         df_std[\"Grade\"][x] = \"B\"\n",
    "    else :\n",
    "         df_std[\"Grade\"][x] = \"C\"\n",
    "            \n",
    "    x = x + 1"
   ]
  },
  {
   "cell_type": "code",
   "execution_count": 78,
   "id": "4948f5e6",
   "metadata": {},
   "outputs": [
    {
     "data": {
      "text/html": [
       "<div>\n",
       "<style scoped>\n",
       "    .dataframe tbody tr th:only-of-type {\n",
       "        vertical-align: middle;\n",
       "    }\n",
       "\n",
       "    .dataframe tbody tr th {\n",
       "        vertical-align: top;\n",
       "    }\n",
       "\n",
       "    .dataframe thead th {\n",
       "        text-align: right;\n",
       "    }\n",
       "</style>\n",
       "<table border=\"1\" class=\"dataframe\">\n",
       "  <thead>\n",
       "    <tr style=\"text-align: right;\">\n",
       "      <th></th>\n",
       "      <th>NAME</th>\n",
       "      <th>Class</th>\n",
       "      <th>Computer</th>\n",
       "      <th>Science</th>\n",
       "      <th>Maths</th>\n",
       "      <th>Total</th>\n",
       "      <th>Average</th>\n",
       "      <th>Grade</th>\n",
       "    </tr>\n",
       "  </thead>\n",
       "  <tbody>\n",
       "    <tr>\n",
       "      <th>0</th>\n",
       "      <td>AAA</td>\n",
       "      <td>10</td>\n",
       "      <td>80</td>\n",
       "      <td>59</td>\n",
       "      <td>90</td>\n",
       "      <td>229</td>\n",
       "      <td>76.0</td>\n",
       "      <td>B</td>\n",
       "    </tr>\n",
       "    <tr>\n",
       "      <th>1</th>\n",
       "      <td>BBB</td>\n",
       "      <td>12</td>\n",
       "      <td>60</td>\n",
       "      <td>60</td>\n",
       "      <td>88</td>\n",
       "      <td>208</td>\n",
       "      <td>69.0</td>\n",
       "      <td>C</td>\n",
       "    </tr>\n",
       "    <tr>\n",
       "      <th>2</th>\n",
       "      <td>CCC</td>\n",
       "      <td>11</td>\n",
       "      <td>85</td>\n",
       "      <td>85</td>\n",
       "      <td>69</td>\n",
       "      <td>239</td>\n",
       "      <td>80.0</td>\n",
       "      <td>A</td>\n",
       "    </tr>\n",
       "    <tr>\n",
       "      <th>3</th>\n",
       "      <td>DDD</td>\n",
       "      <td>10</td>\n",
       "      <td>75</td>\n",
       "      <td>90</td>\n",
       "      <td>82</td>\n",
       "      <td>247</td>\n",
       "      <td>82.0</td>\n",
       "      <td>A</td>\n",
       "    </tr>\n",
       "  </tbody>\n",
       "</table>\n",
       "</div>"
      ],
      "text/plain": [
       "  NAME  Class  Computer  Science  Maths  Total  Average Grade\n",
       "0  AAA     10        80       59     90    229     76.0     B\n",
       "1  BBB     12        60       60     88    208     69.0     C\n",
       "2  CCC     11        85       85     69    239     80.0     A\n",
       "3  DDD     10        75       90     82    247     82.0     A"
      ]
     },
     "execution_count": 78,
     "metadata": {},
     "output_type": "execute_result"
    }
   ],
   "source": [
    "df_std"
   ]
  },
  {
   "cell_type": "code",
   "execution_count": 83,
   "id": "6d76028a",
   "metadata": {},
   "outputs": [],
   "source": [
    "df_std[\"Grade1\"] = df_std[\"Average\"].apply( lambda x :  \"A\" if x >= 80 else (\"B\" if x >= 70 else \"C\"))"
   ]
  },
  {
   "cell_type": "code",
   "execution_count": 84,
   "id": "1e3ae26d",
   "metadata": {},
   "outputs": [
    {
     "data": {
      "text/html": [
       "<div>\n",
       "<style scoped>\n",
       "    .dataframe tbody tr th:only-of-type {\n",
       "        vertical-align: middle;\n",
       "    }\n",
       "\n",
       "    .dataframe tbody tr th {\n",
       "        vertical-align: top;\n",
       "    }\n",
       "\n",
       "    .dataframe thead th {\n",
       "        text-align: right;\n",
       "    }\n",
       "</style>\n",
       "<table border=\"1\" class=\"dataframe\">\n",
       "  <thead>\n",
       "    <tr style=\"text-align: right;\">\n",
       "      <th></th>\n",
       "      <th>NAME</th>\n",
       "      <th>Class</th>\n",
       "      <th>Computer</th>\n",
       "      <th>Science</th>\n",
       "      <th>Maths</th>\n",
       "      <th>Total</th>\n",
       "      <th>Average</th>\n",
       "      <th>Grade</th>\n",
       "      <th>Grade1</th>\n",
       "    </tr>\n",
       "  </thead>\n",
       "  <tbody>\n",
       "    <tr>\n",
       "      <th>0</th>\n",
       "      <td>AAA</td>\n",
       "      <td>10</td>\n",
       "      <td>80</td>\n",
       "      <td>59</td>\n",
       "      <td>90</td>\n",
       "      <td>229</td>\n",
       "      <td>76.0</td>\n",
       "      <td>B</td>\n",
       "      <td>B</td>\n",
       "    </tr>\n",
       "    <tr>\n",
       "      <th>1</th>\n",
       "      <td>BBB</td>\n",
       "      <td>12</td>\n",
       "      <td>60</td>\n",
       "      <td>60</td>\n",
       "      <td>88</td>\n",
       "      <td>208</td>\n",
       "      <td>69.0</td>\n",
       "      <td>C</td>\n",
       "      <td>C</td>\n",
       "    </tr>\n",
       "    <tr>\n",
       "      <th>2</th>\n",
       "      <td>CCC</td>\n",
       "      <td>11</td>\n",
       "      <td>85</td>\n",
       "      <td>85</td>\n",
       "      <td>69</td>\n",
       "      <td>239</td>\n",
       "      <td>80.0</td>\n",
       "      <td>A</td>\n",
       "      <td>A</td>\n",
       "    </tr>\n",
       "    <tr>\n",
       "      <th>3</th>\n",
       "      <td>DDD</td>\n",
       "      <td>10</td>\n",
       "      <td>75</td>\n",
       "      <td>90</td>\n",
       "      <td>82</td>\n",
       "      <td>247</td>\n",
       "      <td>82.0</td>\n",
       "      <td>A</td>\n",
       "      <td>A</td>\n",
       "    </tr>\n",
       "  </tbody>\n",
       "</table>\n",
       "</div>"
      ],
      "text/plain": [
       "  NAME  Class  Computer  Science  Maths  Total  Average Grade Grade1\n",
       "0  AAA     10        80       59     90    229     76.0     B      B\n",
       "1  BBB     12        60       60     88    208     69.0     C      C\n",
       "2  CCC     11        85       85     69    239     80.0     A      A\n",
       "3  DDD     10        75       90     82    247     82.0     A      A"
      ]
     },
     "execution_count": 84,
     "metadata": {},
     "output_type": "execute_result"
    }
   ],
   "source": [
    "df_std"
   ]
  },
  {
   "cell_type": "code",
   "execution_count": 86,
   "id": "49d4cb65",
   "metadata": {},
   "outputs": [],
   "source": [
    "# np.select(<condition>, <result>)\n",
    "\n",
    "cond = [ (df_std[\"Average\"] >= 80) , (df_std[\"Average\"] >= 70), (df_std[\"Average\"] < 70) ]\n",
    "result = [\"A\",\"B\",\"C\"]"
   ]
  },
  {
   "cell_type": "code",
   "execution_count": 89,
   "id": "07fa7c4d",
   "metadata": {},
   "outputs": [],
   "source": [
    "df_std[\"Grade2\"] = np.select(cond, result)"
   ]
  },
  {
   "cell_type": "code",
   "execution_count": 90,
   "id": "dd95b11b",
   "metadata": {},
   "outputs": [
    {
     "data": {
      "text/html": [
       "<div>\n",
       "<style scoped>\n",
       "    .dataframe tbody tr th:only-of-type {\n",
       "        vertical-align: middle;\n",
       "    }\n",
       "\n",
       "    .dataframe tbody tr th {\n",
       "        vertical-align: top;\n",
       "    }\n",
       "\n",
       "    .dataframe thead th {\n",
       "        text-align: right;\n",
       "    }\n",
       "</style>\n",
       "<table border=\"1\" class=\"dataframe\">\n",
       "  <thead>\n",
       "    <tr style=\"text-align: right;\">\n",
       "      <th></th>\n",
       "      <th>NAME</th>\n",
       "      <th>Class</th>\n",
       "      <th>Computer</th>\n",
       "      <th>Science</th>\n",
       "      <th>Maths</th>\n",
       "      <th>Total</th>\n",
       "      <th>Average</th>\n",
       "      <th>Grade</th>\n",
       "      <th>Grade1</th>\n",
       "      <th>Grade2</th>\n",
       "    </tr>\n",
       "  </thead>\n",
       "  <tbody>\n",
       "    <tr>\n",
       "      <th>0</th>\n",
       "      <td>AAA</td>\n",
       "      <td>10</td>\n",
       "      <td>80</td>\n",
       "      <td>59</td>\n",
       "      <td>90</td>\n",
       "      <td>229</td>\n",
       "      <td>76.0</td>\n",
       "      <td>B</td>\n",
       "      <td>B</td>\n",
       "      <td>B</td>\n",
       "    </tr>\n",
       "    <tr>\n",
       "      <th>1</th>\n",
       "      <td>BBB</td>\n",
       "      <td>12</td>\n",
       "      <td>60</td>\n",
       "      <td>60</td>\n",
       "      <td>88</td>\n",
       "      <td>208</td>\n",
       "      <td>69.0</td>\n",
       "      <td>C</td>\n",
       "      <td>C</td>\n",
       "      <td>C</td>\n",
       "    </tr>\n",
       "    <tr>\n",
       "      <th>2</th>\n",
       "      <td>CCC</td>\n",
       "      <td>11</td>\n",
       "      <td>85</td>\n",
       "      <td>85</td>\n",
       "      <td>69</td>\n",
       "      <td>239</td>\n",
       "      <td>80.0</td>\n",
       "      <td>A</td>\n",
       "      <td>A</td>\n",
       "      <td>A</td>\n",
       "    </tr>\n",
       "    <tr>\n",
       "      <th>3</th>\n",
       "      <td>DDD</td>\n",
       "      <td>10</td>\n",
       "      <td>75</td>\n",
       "      <td>90</td>\n",
       "      <td>82</td>\n",
       "      <td>247</td>\n",
       "      <td>82.0</td>\n",
       "      <td>A</td>\n",
       "      <td>A</td>\n",
       "      <td>A</td>\n",
       "    </tr>\n",
       "  </tbody>\n",
       "</table>\n",
       "</div>"
      ],
      "text/plain": [
       "  NAME  Class  Computer  Science  Maths  Total  Average Grade Grade1 Grade2\n",
       "0  AAA     10        80       59     90    229     76.0     B      B      B\n",
       "1  BBB     12        60       60     88    208     69.0     C      C      C\n",
       "2  CCC     11        85       85     69    239     80.0     A      A      A\n",
       "3  DDD     10        75       90     82    247     82.0     A      A      A"
      ]
     },
     "execution_count": 90,
     "metadata": {},
     "output_type": "execute_result"
    }
   ],
   "source": [
    "df_std"
   ]
  },
  {
   "cell_type": "code",
   "execution_count": 92,
   "id": "38fde3ba",
   "metadata": {
    "tags": []
   },
   "outputs": [],
   "source": [
    "df_std[\"Grade3\"] = df_std[\"Average\"].apply( lambda x : np.where(x >= 80, \"A\", np.where(x>70,\"B\",\"C\")))"
   ]
  },
  {
   "cell_type": "code",
   "execution_count": 93,
   "id": "950f6bfe",
   "metadata": {},
   "outputs": [
    {
     "data": {
      "text/html": [
       "<div>\n",
       "<style scoped>\n",
       "    .dataframe tbody tr th:only-of-type {\n",
       "        vertical-align: middle;\n",
       "    }\n",
       "\n",
       "    .dataframe tbody tr th {\n",
       "        vertical-align: top;\n",
       "    }\n",
       "\n",
       "    .dataframe thead th {\n",
       "        text-align: right;\n",
       "    }\n",
       "</style>\n",
       "<table border=\"1\" class=\"dataframe\">\n",
       "  <thead>\n",
       "    <tr style=\"text-align: right;\">\n",
       "      <th></th>\n",
       "      <th>NAME</th>\n",
       "      <th>Class</th>\n",
       "      <th>Computer</th>\n",
       "      <th>Science</th>\n",
       "      <th>Maths</th>\n",
       "      <th>Total</th>\n",
       "      <th>Average</th>\n",
       "      <th>Grade</th>\n",
       "      <th>Grade1</th>\n",
       "      <th>Grade2</th>\n",
       "      <th>Grade3</th>\n",
       "    </tr>\n",
       "  </thead>\n",
       "  <tbody>\n",
       "    <tr>\n",
       "      <th>0</th>\n",
       "      <td>AAA</td>\n",
       "      <td>10</td>\n",
       "      <td>80</td>\n",
       "      <td>59</td>\n",
       "      <td>90</td>\n",
       "      <td>229</td>\n",
       "      <td>76.0</td>\n",
       "      <td>B</td>\n",
       "      <td>B</td>\n",
       "      <td>B</td>\n",
       "      <td>B</td>\n",
       "    </tr>\n",
       "    <tr>\n",
       "      <th>1</th>\n",
       "      <td>BBB</td>\n",
       "      <td>12</td>\n",
       "      <td>60</td>\n",
       "      <td>60</td>\n",
       "      <td>88</td>\n",
       "      <td>208</td>\n",
       "      <td>69.0</td>\n",
       "      <td>C</td>\n",
       "      <td>C</td>\n",
       "      <td>C</td>\n",
       "      <td>C</td>\n",
       "    </tr>\n",
       "    <tr>\n",
       "      <th>2</th>\n",
       "      <td>CCC</td>\n",
       "      <td>11</td>\n",
       "      <td>85</td>\n",
       "      <td>85</td>\n",
       "      <td>69</td>\n",
       "      <td>239</td>\n",
       "      <td>80.0</td>\n",
       "      <td>A</td>\n",
       "      <td>A</td>\n",
       "      <td>A</td>\n",
       "      <td>A</td>\n",
       "    </tr>\n",
       "    <tr>\n",
       "      <th>3</th>\n",
       "      <td>DDD</td>\n",
       "      <td>10</td>\n",
       "      <td>75</td>\n",
       "      <td>90</td>\n",
       "      <td>82</td>\n",
       "      <td>247</td>\n",
       "      <td>82.0</td>\n",
       "      <td>A</td>\n",
       "      <td>A</td>\n",
       "      <td>A</td>\n",
       "      <td>A</td>\n",
       "    </tr>\n",
       "  </tbody>\n",
       "</table>\n",
       "</div>"
      ],
      "text/plain": [
       "  NAME  Class  Computer  Science  Maths  Total  Average Grade Grade1 Grade2  \\\n",
       "0  AAA     10        80       59     90    229     76.0     B      B      B   \n",
       "1  BBB     12        60       60     88    208     69.0     C      C      C   \n",
       "2  CCC     11        85       85     69    239     80.0     A      A      A   \n",
       "3  DDD     10        75       90     82    247     82.0     A      A      A   \n",
       "\n",
       "  Grade3  \n",
       "0      B  \n",
       "1      C  \n",
       "2      A  \n",
       "3      A  "
      ]
     },
     "execution_count": 93,
     "metadata": {},
     "output_type": "execute_result"
    }
   ],
   "source": [
    "df_std"
   ]
  },
  {
   "cell_type": "code",
   "execution_count": null,
   "id": "2e5efe05",
   "metadata": {},
   "outputs": [],
   "source": []
  }
 ],
 "metadata": {
  "kernelspec": {
   "display_name": "Python 3 (ipykernel)",
   "language": "python",
   "name": "python3"
  },
  "language_info": {
   "codemirror_mode": {
    "name": "ipython",
    "version": 3
   },
   "file_extension": ".py",
   "mimetype": "text/x-python",
   "name": "python",
   "nbconvert_exporter": "python",
   "pygments_lexer": "ipython3",
   "version": "3.9.7"
  }
 },
 "nbformat": 4,
 "nbformat_minor": 5
}
