{
 "cells": [
  {
   "cell_type": "code",
   "execution_count": 20,
   "id": "7fbecdb9",
   "metadata": {},
   "outputs": [],
   "source": [
    "import pandas as pd\n",
    "import numpy as np"
   ]
  },
  {
   "cell_type": "markdown",
   "id": "bda5632f",
   "metadata": {},
   "source": [
    "#### Series with List"
   ]
  },
  {
   "cell_type": "code",
   "execution_count": 2,
   "id": "ac524e05",
   "metadata": {},
   "outputs": [],
   "source": [
    "list1 = [100,200,300,400]"
   ]
  },
  {
   "cell_type": "code",
   "execution_count": 3,
   "id": "6f2d3453",
   "metadata": {},
   "outputs": [
    {
     "name": "stdout",
     "output_type": "stream",
     "text": [
      "[100, 200, 300, 400]\n"
     ]
    }
   ],
   "source": [
    "print(list1)"
   ]
  },
  {
   "cell_type": "code",
   "execution_count": 4,
   "id": "16d7036d",
   "metadata": {},
   "outputs": [],
   "source": [
    "s1 = pd.Series(list1)"
   ]
  },
  {
   "cell_type": "code",
   "execution_count": 5,
   "id": "dab8f044",
   "metadata": {},
   "outputs": [
    {
     "data": {
      "text/plain": [
       "0    100\n",
       "1    200\n",
       "2    300\n",
       "3    400\n",
       "dtype: int64"
      ]
     },
     "execution_count": 5,
     "metadata": {},
     "output_type": "execute_result"
    }
   ],
   "source": [
    "s1"
   ]
  },
  {
   "cell_type": "code",
   "execution_count": 6,
   "id": "e01dd661",
   "metadata": {},
   "outputs": [],
   "source": [
    "s2 = pd.Series(list1, index = [\"A\",\"B\",\"C\",\"D\"])"
   ]
  },
  {
   "cell_type": "code",
   "execution_count": 7,
   "id": "b24594dc",
   "metadata": {},
   "outputs": [
    {
     "data": {
      "text/plain": [
       "A    100\n",
       "B    200\n",
       "C    300\n",
       "D    400\n",
       "dtype: int64"
      ]
     },
     "execution_count": 7,
     "metadata": {},
     "output_type": "execute_result"
    }
   ],
   "source": [
    "s2"
   ]
  },
  {
   "cell_type": "code",
   "execution_count": 8,
   "id": "8c27833d",
   "metadata": {},
   "outputs": [
    {
     "data": {
      "text/plain": [
       "100"
      ]
     },
     "execution_count": 8,
     "metadata": {},
     "output_type": "execute_result"
    }
   ],
   "source": [
    "s2[\"A\"]"
   ]
  },
  {
   "cell_type": "code",
   "execution_count": 9,
   "id": "87e055eb",
   "metadata": {},
   "outputs": [
    {
     "data": {
      "text/plain": [
       "100"
      ]
     },
     "execution_count": 9,
     "metadata": {},
     "output_type": "execute_result"
    }
   ],
   "source": [
    "s2[0]"
   ]
  },
  {
   "cell_type": "code",
   "execution_count": 10,
   "id": "659d440d",
   "metadata": {},
   "outputs": [],
   "source": [
    "list2 = [[10,20],[30,40],[50,60]]"
   ]
  },
  {
   "cell_type": "code",
   "execution_count": 11,
   "id": "5f78f6d5",
   "metadata": {},
   "outputs": [],
   "source": [
    "s3 = pd.Series(list2)"
   ]
  },
  {
   "cell_type": "code",
   "execution_count": 12,
   "id": "ab4d5646",
   "metadata": {},
   "outputs": [
    {
     "data": {
      "text/plain": [
       "0    [10, 20]\n",
       "1    [30, 40]\n",
       "2    [50, 60]\n",
       "dtype: object"
      ]
     },
     "execution_count": 12,
     "metadata": {},
     "output_type": "execute_result"
    }
   ],
   "source": [
    "s3"
   ]
  },
  {
   "cell_type": "markdown",
   "id": "4d3f1b70",
   "metadata": {},
   "source": [
    "##### Series with Scalar"
   ]
  },
  {
   "cell_type": "code",
   "execution_count": 13,
   "id": "86d5221f",
   "metadata": {},
   "outputs": [],
   "source": [
    "# Scalar - 9 "
   ]
  },
  {
   "cell_type": "code",
   "execution_count": 14,
   "id": "c2dd7b20",
   "metadata": {},
   "outputs": [
    {
     "data": {
      "text/plain": [
       "0    9\n",
       "dtype: int64"
      ]
     },
     "execution_count": 14,
     "metadata": {},
     "output_type": "execute_result"
    }
   ],
   "source": [
    "pd.Series(9)"
   ]
  },
  {
   "cell_type": "code",
   "execution_count": 15,
   "id": "77c3589b",
   "metadata": {},
   "outputs": [
    {
     "data": {
      "text/plain": [
       "0    9\n",
       "1    9\n",
       "2    9\n",
       "3    9\n",
       "4    9\n",
       "dtype: int64"
      ]
     },
     "execution_count": 15,
     "metadata": {},
     "output_type": "execute_result"
    }
   ],
   "source": [
    "pd.Series(9,index =[0,1,2,3,4])"
   ]
  },
  {
   "cell_type": "code",
   "execution_count": 16,
   "id": "9a97499f",
   "metadata": {},
   "outputs": [
    {
     "data": {
      "text/plain": [
       "0    9.0\n",
       "1    9.0\n",
       "2    9.0\n",
       "3    9.0\n",
       "4    9.0\n",
       "dtype: float64"
      ]
     },
     "execution_count": 16,
     "metadata": {},
     "output_type": "execute_result"
    }
   ],
   "source": [
    "pd.Series(9,index =[0,1,2,3,4], dtype = 'float')"
   ]
  },
  {
   "cell_type": "code",
   "execution_count": 17,
   "id": "7488aaf8",
   "metadata": {},
   "outputs": [
    {
     "data": {
      "text/plain": [
       "0    9.0\n",
       "1    9.0\n",
       "2    9.0\n",
       "3    9.0\n",
       "4    9.0\n",
       "dtype: float32"
      ]
     },
     "execution_count": 17,
     "metadata": {},
     "output_type": "execute_result"
    }
   ],
   "source": [
    "pd.Series(9,index =[0,1,2,3,4], dtype = 'float32')"
   ]
  },
  {
   "cell_type": "code",
   "execution_count": 21,
   "id": "3ee091b5",
   "metadata": {},
   "outputs": [
    {
     "data": {
      "text/plain": [
       "0    9.0\n",
       "1    9.0\n",
       "2    9.0\n",
       "3    9.0\n",
       "4    9.0\n",
       "dtype: float32"
      ]
     },
     "execution_count": 21,
     "metadata": {},
     "output_type": "execute_result"
    }
   ],
   "source": [
    "pd.Series(9,index =[0,1,2,3,4], dtype = np.float32)"
   ]
  },
  {
   "cell_type": "markdown",
   "id": "5b28527f",
   "metadata": {},
   "source": [
    "#### SCALAR WITH NUMPY ARRAY"
   ]
  },
  {
   "cell_type": "code",
   "execution_count": 22,
   "id": "bcb7bda6",
   "metadata": {},
   "outputs": [],
   "source": [
    "ary1 = np.arange(10, 20, 1)"
   ]
  },
  {
   "cell_type": "code",
   "execution_count": 23,
   "id": "b825b250",
   "metadata": {},
   "outputs": [
    {
     "data": {
      "text/plain": [
       "array([10, 11, 12, 13, 14, 15, 16, 17, 18, 19])"
      ]
     },
     "execution_count": 23,
     "metadata": {},
     "output_type": "execute_result"
    }
   ],
   "source": [
    "ary1"
   ]
  },
  {
   "cell_type": "code",
   "execution_count": 24,
   "id": "ce735612",
   "metadata": {},
   "outputs": [
    {
     "data": {
      "text/plain": [
       "0    10\n",
       "1    11\n",
       "2    12\n",
       "3    13\n",
       "4    14\n",
       "5    15\n",
       "6    16\n",
       "7    17\n",
       "8    18\n",
       "9    19\n",
       "dtype: int32"
      ]
     },
     "execution_count": 24,
     "metadata": {},
     "output_type": "execute_result"
    }
   ],
   "source": [
    "pd.Series(ary1)"
   ]
  },
  {
   "cell_type": "code",
   "execution_count": 25,
   "id": "bba7d27d",
   "metadata": {},
   "outputs": [
    {
     "data": {
      "text/plain": [
       "['A', 'B', 'C', 'D', 'E', 'F', 'G', 'H', 'I', 'J']"
      ]
     },
     "execution_count": 25,
     "metadata": {},
     "output_type": "execute_result"
    }
   ],
   "source": [
    "s1 = \"ABCDEFGHIJ\"\n",
    "list(s1)"
   ]
  },
  {
   "cell_type": "code",
   "execution_count": 26,
   "id": "21e025fe",
   "metadata": {},
   "outputs": [
    {
     "data": {
      "text/plain": [
       "A    10\n",
       "B    11\n",
       "C    12\n",
       "D    13\n",
       "E    14\n",
       "F    15\n",
       "G    16\n",
       "H    17\n",
       "I    18\n",
       "J    19\n",
       "dtype: int32"
      ]
     },
     "execution_count": 26,
     "metadata": {},
     "output_type": "execute_result"
    }
   ],
   "source": [
    "pd.Series(ary1, index = list(\"ABCDEFGHIJ\"))"
   ]
  },
  {
   "cell_type": "code",
   "execution_count": 29,
   "id": "c6c80f0e",
   "metadata": {},
   "outputs": [
    {
     "data": {
      "text/plain": [
       "Series([], dtype: int32)"
      ]
     },
     "execution_count": 29,
     "metadata": {},
     "output_type": "execute_result"
    }
   ],
   "source": [
    "pd.Series([], dtype = \"int\")"
   ]
  },
  {
   "cell_type": "code",
   "execution_count": 31,
   "id": "e69674c4",
   "metadata": {},
   "outputs": [],
   "source": [
    "dic1 = {\n",
    "    \n",
    "        \"A\" : 100,\n",
    "        \"B\" : 200,\n",
    "        \"C\" : 300,\n",
    "        \"D\" : 400\n",
    "}"
   ]
  },
  {
   "cell_type": "code",
   "execution_count": 32,
   "id": "76d0d0ec",
   "metadata": {},
   "outputs": [
    {
     "data": {
      "text/plain": [
       "{'A': 100, 'B': 200, 'C': 300, 'D': 400}"
      ]
     },
     "execution_count": 32,
     "metadata": {},
     "output_type": "execute_result"
    }
   ],
   "source": [
    "dic1"
   ]
  },
  {
   "cell_type": "code",
   "execution_count": 33,
   "id": "47d0b8a1",
   "metadata": {},
   "outputs": [
    {
     "data": {
      "text/plain": [
       "A    100\n",
       "B    200\n",
       "C    300\n",
       "D    400\n",
       "dtype: int64"
      ]
     },
     "execution_count": 33,
     "metadata": {},
     "output_type": "execute_result"
    }
   ],
   "source": [
    "pd.Series(dic1)"
   ]
  },
  {
   "cell_type": "code",
   "execution_count": 34,
   "id": "2891fc35",
   "metadata": {},
   "outputs": [
    {
     "data": {
      "text/plain": [
       "AA   NaN\n",
       "BB   NaN\n",
       "CC   NaN\n",
       "DD   NaN\n",
       "dtype: float64"
      ]
     },
     "execution_count": 34,
     "metadata": {},
     "output_type": "execute_result"
    }
   ],
   "source": [
    "pd.Series(dic1,index = ['AA','BB','CC','DD'])"
   ]
  },
  {
   "cell_type": "code",
   "execution_count": 35,
   "id": "5c3785e0",
   "metadata": {},
   "outputs": [
    {
     "data": {
      "text/plain": [
       "A    100\n",
       "D    400\n",
       "dtype: int64"
      ]
     },
     "execution_count": 35,
     "metadata": {},
     "output_type": "execute_result"
    }
   ],
   "source": [
    "pd.Series(dic1, index = [\"A\",\"D\"])"
   ]
  },
  {
   "cell_type": "code",
   "execution_count": 36,
   "id": "c2586260",
   "metadata": {},
   "outputs": [
    {
     "data": {
      "text/plain": [
       "C    300\n",
       "A    100\n",
       "D    400\n",
       "B    200\n",
       "dtype: int64"
      ]
     },
     "execution_count": 36,
     "metadata": {},
     "output_type": "execute_result"
    }
   ],
   "source": [
    "pd.Series(dic1, index = [\"C\",\"A\",\"D\",\"B\"])"
   ]
  },
  {
   "cell_type": "code",
   "execution_count": 38,
   "id": "f25bcac9",
   "metadata": {},
   "outputs": [],
   "source": [
    "s2 = pd.Series(dic1)"
   ]
  },
  {
   "cell_type": "code",
   "execution_count": 39,
   "id": "49f2bd8d",
   "metadata": {},
   "outputs": [
    {
     "data": {
      "text/plain": [
       "A    100\n",
       "B    200\n",
       "C    300\n",
       "D    400\n",
       "dtype: int64"
      ]
     },
     "execution_count": 39,
     "metadata": {},
     "output_type": "execute_result"
    }
   ],
   "source": [
    "s2"
   ]
  },
  {
   "cell_type": "code",
   "execution_count": 40,
   "id": "ce3cb289",
   "metadata": {},
   "outputs": [
    {
     "data": {
      "text/plain": [
       "300"
      ]
     },
     "execution_count": 40,
     "metadata": {},
     "output_type": "execute_result"
    }
   ],
   "source": [
    "s2['C']"
   ]
  },
  {
   "cell_type": "code",
   "execution_count": 41,
   "id": "80897fa0",
   "metadata": {},
   "outputs": [
    {
     "data": {
      "text/plain": [
       "300"
      ]
     },
     "execution_count": 41,
     "metadata": {},
     "output_type": "execute_result"
    }
   ],
   "source": [
    "s2[2]"
   ]
  },
  {
   "cell_type": "code",
   "execution_count": 42,
   "id": "5ad6dfa5",
   "metadata": {},
   "outputs": [],
   "source": [
    "s3 = pd.Series(dic1, index = [\"C\",\"A\",\"D\",\"B\"])"
   ]
  },
  {
   "cell_type": "code",
   "execution_count": 43,
   "id": "774b9dcb",
   "metadata": {},
   "outputs": [
    {
     "data": {
      "text/plain": [
       "C    300\n",
       "A    100\n",
       "D    400\n",
       "B    200\n",
       "dtype: int64"
      ]
     },
     "execution_count": 43,
     "metadata": {},
     "output_type": "execute_result"
    }
   ],
   "source": [
    "s3"
   ]
  },
  {
   "cell_type": "code",
   "execution_count": 44,
   "id": "a45ccec3",
   "metadata": {},
   "outputs": [
    {
     "data": {
      "text/plain": [
       "400"
      ]
     },
     "execution_count": 44,
     "metadata": {},
     "output_type": "execute_result"
    }
   ],
   "source": [
    "s3['D']"
   ]
  },
  {
   "cell_type": "code",
   "execution_count": 45,
   "id": "35dd1ef5",
   "metadata": {},
   "outputs": [
    {
     "data": {
      "text/plain": [
       "400"
      ]
     },
     "execution_count": 45,
     "metadata": {},
     "output_type": "execute_result"
    }
   ],
   "source": [
    "s3[2]"
   ]
  },
  {
   "cell_type": "code",
   "execution_count": 46,
   "id": "25ec2f13",
   "metadata": {},
   "outputs": [
    {
     "data": {
      "text/plain": [
       "A    100\n",
       "D    400\n",
       "dtype: int64"
      ]
     },
     "execution_count": 46,
     "metadata": {},
     "output_type": "execute_result"
    }
   ],
   "source": [
    "s3[1:3]"
   ]
  },
  {
   "cell_type": "code",
   "execution_count": 48,
   "id": "9fe6300a",
   "metadata": {},
   "outputs": [
    {
     "data": {
      "text/plain": [
       "A    100\n",
       "D    400\n",
       "B    200\n",
       "dtype: int64"
      ]
     },
     "execution_count": 48,
     "metadata": {},
     "output_type": "execute_result"
    }
   ],
   "source": [
    "s3[\"A\" : \"B\"]"
   ]
  },
  {
   "cell_type": "code",
   "execution_count": 50,
   "id": "1e1894e1",
   "metadata": {},
   "outputs": [
    {
     "data": {
      "text/plain": [
       "A    100\n",
       "C    300\n",
       "dtype: int64"
      ]
     },
     "execution_count": 50,
     "metadata": {},
     "output_type": "execute_result"
    }
   ],
   "source": [
    "s3[[\"A\",\"C\"]]"
   ]
  },
  {
   "cell_type": "code",
   "execution_count": 51,
   "id": "54c96b04",
   "metadata": {},
   "outputs": [
    {
     "data": {
      "text/plain": [
       "C    300\n",
       "A    100\n",
       "D    400\n",
       "B    200\n",
       "dtype: int64"
      ]
     },
     "execution_count": 51,
     "metadata": {},
     "output_type": "execute_result"
    }
   ],
   "source": [
    "s3"
   ]
  },
  {
   "cell_type": "code",
   "execution_count": 53,
   "id": "75cb4cf0",
   "metadata": {},
   "outputs": [],
   "source": [
    "s4 = pd.Series(dic1, index = [\"C1\",\"A1\",\"D1\",\"B1\"])"
   ]
  },
  {
   "cell_type": "code",
   "execution_count": 54,
   "id": "e3b25299",
   "metadata": {},
   "outputs": [
    {
     "data": {
      "text/plain": [
       "C1   NaN\n",
       "A1   NaN\n",
       "D1   NaN\n",
       "B1   NaN\n",
       "dtype: float64"
      ]
     },
     "execution_count": 54,
     "metadata": {},
     "output_type": "execute_result"
    }
   ],
   "source": [
    "s4"
   ]
  },
  {
   "cell_type": "code",
   "execution_count": 55,
   "id": "5b8aed1f",
   "metadata": {},
   "outputs": [],
   "source": [
    "s5 = pd.Series(dic1, index = [\"C\",\"A\",\"D\",\"B\"])"
   ]
  },
  {
   "cell_type": "code",
   "execution_count": 56,
   "id": "981f4f7b",
   "metadata": {},
   "outputs": [
    {
     "data": {
      "text/plain": [
       "C    300\n",
       "A    100\n",
       "D    400\n",
       "B    200\n",
       "dtype: int64"
      ]
     },
     "execution_count": 56,
     "metadata": {},
     "output_type": "execute_result"
    }
   ],
   "source": [
    "s5"
   ]
  },
  {
   "cell_type": "code",
   "execution_count": 57,
   "id": "62802492",
   "metadata": {},
   "outputs": [
    {
     "data": {
      "text/plain": [
       "Index(['C', 'A', 'D', 'B'], dtype='object')"
      ]
     },
     "execution_count": 57,
     "metadata": {},
     "output_type": "execute_result"
    }
   ],
   "source": [
    "s5.index"
   ]
  },
  {
   "cell_type": "code",
   "execution_count": 59,
   "id": "4966a8c4",
   "metadata": {},
   "outputs": [],
   "source": [
    "s5.index = [0,1,2,3]"
   ]
  },
  {
   "cell_type": "code",
   "execution_count": 60,
   "id": "50dc64d5",
   "metadata": {},
   "outputs": [
    {
     "data": {
      "text/plain": [
       "0    300\n",
       "1    100\n",
       "2    400\n",
       "3    200\n",
       "dtype: int64"
      ]
     },
     "execution_count": 60,
     "metadata": {},
     "output_type": "execute_result"
    }
   ],
   "source": [
    "s5"
   ]
  },
  {
   "cell_type": "code",
   "execution_count": 65,
   "id": "6b800170",
   "metadata": {},
   "outputs": [],
   "source": [
    "ary2 = np.random.randint(10,50,(12,))"
   ]
  },
  {
   "cell_type": "code",
   "execution_count": 66,
   "id": "6156749d",
   "metadata": {},
   "outputs": [
    {
     "data": {
      "text/plain": [
       "array([34, 16, 19, 48, 28, 38, 42, 35, 17, 24, 43, 31])"
      ]
     },
     "execution_count": 66,
     "metadata": {},
     "output_type": "execute_result"
    }
   ],
   "source": [
    "ary2"
   ]
  },
  {
   "cell_type": "code",
   "execution_count": 68,
   "id": "8bef71c1",
   "metadata": {},
   "outputs": [],
   "source": [
    "s6 = pd.Series(ary2)"
   ]
  },
  {
   "cell_type": "code",
   "execution_count": 69,
   "id": "130878e6",
   "metadata": {},
   "outputs": [
    {
     "data": {
      "text/plain": [
       "0     34\n",
       "1     16\n",
       "2     19\n",
       "3     48\n",
       "4     28\n",
       "5     38\n",
       "6     42\n",
       "7     35\n",
       "8     17\n",
       "9     24\n",
       "10    43\n",
       "11    31\n",
       "dtype: int32"
      ]
     },
     "execution_count": 69,
     "metadata": {},
     "output_type": "execute_result"
    }
   ],
   "source": [
    "s6"
   ]
  },
  {
   "cell_type": "code",
   "execution_count": 71,
   "id": "68f66e3c",
   "metadata": {},
   "outputs": [],
   "source": [
    "f1 = s6 > 30"
   ]
  },
  {
   "cell_type": "code",
   "execution_count": 72,
   "id": "672bea24",
   "metadata": {},
   "outputs": [
    {
     "data": {
      "text/plain": [
       "0      True\n",
       "1     False\n",
       "2     False\n",
       "3      True\n",
       "4     False\n",
       "5      True\n",
       "6      True\n",
       "7      True\n",
       "8     False\n",
       "9     False\n",
       "10     True\n",
       "11     True\n",
       "dtype: bool"
      ]
     },
     "execution_count": 72,
     "metadata": {},
     "output_type": "execute_result"
    }
   ],
   "source": [
    "f1"
   ]
  },
  {
   "cell_type": "code",
   "execution_count": 73,
   "id": "3f12febb",
   "metadata": {},
   "outputs": [
    {
     "data": {
      "text/plain": [
       "0     34\n",
       "3     48\n",
       "5     38\n",
       "6     42\n",
       "7     35\n",
       "10    43\n",
       "11    31\n",
       "dtype: int32"
      ]
     },
     "execution_count": 73,
     "metadata": {},
     "output_type": "execute_result"
    }
   ],
   "source": [
    "s6[f1]"
   ]
  },
  {
   "cell_type": "code",
   "execution_count": 75,
   "id": "06acfd97",
   "metadata": {},
   "outputs": [],
   "source": [
    "f2 = s6 < 40"
   ]
  },
  {
   "cell_type": "code",
   "execution_count": 76,
   "id": "98b78443",
   "metadata": {},
   "outputs": [
    {
     "data": {
      "text/plain": [
       "0     34\n",
       "1     16\n",
       "2     19\n",
       "4     28\n",
       "5     38\n",
       "7     35\n",
       "8     17\n",
       "9     24\n",
       "11    31\n",
       "dtype: int32"
      ]
     },
     "execution_count": 76,
     "metadata": {},
     "output_type": "execute_result"
    }
   ],
   "source": [
    "s6[f2]"
   ]
  },
  {
   "cell_type": "code",
   "execution_count": 77,
   "id": "2e45396d",
   "metadata": {},
   "outputs": [],
   "source": [
    "a1 = np.arange(10,20)"
   ]
  },
  {
   "cell_type": "code",
   "execution_count": 78,
   "id": "6b74c90c",
   "metadata": {},
   "outputs": [],
   "source": [
    "a2 = np.arange(20,30)"
   ]
  },
  {
   "cell_type": "code",
   "execution_count": 79,
   "id": "734f44d5",
   "metadata": {},
   "outputs": [
    {
     "data": {
      "text/plain": [
       "array([10, 11, 12, 13, 14, 15, 16, 17, 18, 19])"
      ]
     },
     "execution_count": 79,
     "metadata": {},
     "output_type": "execute_result"
    }
   ],
   "source": [
    "a1"
   ]
  },
  {
   "cell_type": "code",
   "execution_count": 80,
   "id": "cc984bd8",
   "metadata": {},
   "outputs": [
    {
     "data": {
      "text/plain": [
       "array([20, 21, 22, 23, 24, 25, 26, 27, 28, 29])"
      ]
     },
     "execution_count": 80,
     "metadata": {},
     "output_type": "execute_result"
    }
   ],
   "source": [
    "a2"
   ]
  },
  {
   "cell_type": "code",
   "execution_count": 81,
   "id": "f12d7247",
   "metadata": {},
   "outputs": [],
   "source": [
    "s_a1 = pd.Series(a1)"
   ]
  },
  {
   "cell_type": "code",
   "execution_count": 82,
   "id": "efad2f8c",
   "metadata": {},
   "outputs": [],
   "source": [
    "s_a2 = pd.Series(a2)"
   ]
  },
  {
   "cell_type": "code",
   "execution_count": 83,
   "id": "af255c45",
   "metadata": {},
   "outputs": [
    {
     "data": {
      "text/plain": [
       "0    10\n",
       "1    11\n",
       "2    12\n",
       "3    13\n",
       "4    14\n",
       "5    15\n",
       "6    16\n",
       "7    17\n",
       "8    18\n",
       "9    19\n",
       "dtype: int32"
      ]
     },
     "execution_count": 83,
     "metadata": {},
     "output_type": "execute_result"
    }
   ],
   "source": [
    "s_a1"
   ]
  },
  {
   "cell_type": "code",
   "execution_count": 84,
   "id": "7cc3cd8a",
   "metadata": {},
   "outputs": [
    {
     "data": {
      "text/plain": [
       "0    20\n",
       "1    21\n",
       "2    22\n",
       "3    23\n",
       "4    24\n",
       "5    25\n",
       "6    26\n",
       "7    27\n",
       "8    28\n",
       "9    29\n",
       "dtype: int32"
      ]
     },
     "execution_count": 84,
     "metadata": {},
     "output_type": "execute_result"
    }
   ],
   "source": [
    "s_a2"
   ]
  },
  {
   "cell_type": "code",
   "execution_count": 86,
   "id": "18a2cc12",
   "metadata": {},
   "outputs": [],
   "source": [
    "s_result = s_a1 + s_a2"
   ]
  },
  {
   "cell_type": "code",
   "execution_count": 87,
   "id": "8578b2e8",
   "metadata": {},
   "outputs": [
    {
     "data": {
      "text/plain": [
       "0    30\n",
       "1    32\n",
       "2    34\n",
       "3    36\n",
       "4    38\n",
       "5    40\n",
       "6    42\n",
       "7    44\n",
       "8    46\n",
       "9    48\n",
       "dtype: int32"
      ]
     },
     "execution_count": 87,
     "metadata": {},
     "output_type": "execute_result"
    }
   ],
   "source": [
    "s_result"
   ]
  },
  {
   "cell_type": "code",
   "execution_count": 88,
   "id": "8c287d65",
   "metadata": {},
   "outputs": [
    {
     "data": {
      "text/plain": [
       "0     34\n",
       "1     16\n",
       "2     19\n",
       "3     48\n",
       "4     28\n",
       "5     38\n",
       "6     42\n",
       "7     35\n",
       "8     17\n",
       "9     24\n",
       "10    43\n",
       "11    31\n",
       "dtype: int32"
      ]
     },
     "execution_count": 88,
     "metadata": {},
     "output_type": "execute_result"
    }
   ],
   "source": [
    "s6"
   ]
  },
  {
   "cell_type": "code",
   "execution_count": 89,
   "id": "b209692c",
   "metadata": {},
   "outputs": [
    {
     "data": {
      "text/plain": [
       "0      7.0\n",
       "1      1.0\n",
       "2      3.0\n",
       "3     12.0\n",
       "4      5.0\n",
       "5      9.0\n",
       "6     10.0\n",
       "7      8.0\n",
       "8      2.0\n",
       "9      4.0\n",
       "10    11.0\n",
       "11     6.0\n",
       "dtype: float64"
      ]
     },
     "execution_count": 89,
     "metadata": {},
     "output_type": "execute_result"
    }
   ],
   "source": [
    "s6.rank()"
   ]
  },
  {
   "cell_type": "code",
   "execution_count": 90,
   "id": "1ebb3b7d",
   "metadata": {},
   "outputs": [
    {
     "data": {
      "text/plain": [
       "0      6.0\n",
       "1     12.0\n",
       "2     10.0\n",
       "3      1.0\n",
       "4      8.0\n",
       "5      4.0\n",
       "6      3.0\n",
       "7      5.0\n",
       "8     11.0\n",
       "9      9.0\n",
       "10     2.0\n",
       "11     7.0\n",
       "dtype: float64"
      ]
     },
     "execution_count": 90,
     "metadata": {},
     "output_type": "execute_result"
    }
   ],
   "source": [
    "s6.rank(ascending=False)"
   ]
  },
  {
   "cell_type": "code",
   "execution_count": 91,
   "id": "a3596974",
   "metadata": {},
   "outputs": [
    {
     "data": {
      "text/plain": [
       "1     16\n",
       "8     17\n",
       "2     19\n",
       "9     24\n",
       "4     28\n",
       "11    31\n",
       "0     34\n",
       "7     35\n",
       "5     38\n",
       "6     42\n",
       "10    43\n",
       "3     48\n",
       "dtype: int32"
      ]
     },
     "execution_count": 91,
     "metadata": {},
     "output_type": "execute_result"
    }
   ],
   "source": [
    "s6.sort_values()"
   ]
  },
  {
   "cell_type": "code",
   "execution_count": 93,
   "id": "a1a257de",
   "metadata": {},
   "outputs": [
    {
     "data": {
      "text/plain": [
       "11    31\n",
       "10    43\n",
       "9     24\n",
       "8     17\n",
       "7     35\n",
       "6     42\n",
       "5     38\n",
       "4     28\n",
       "3     48\n",
       "2     19\n",
       "1     16\n",
       "0     34\n",
       "dtype: int32"
      ]
     },
     "execution_count": 93,
     "metadata": {},
     "output_type": "execute_result"
    }
   ],
   "source": [
    "s6.sort_index(ascending=False)"
   ]
  },
  {
   "cell_type": "code",
   "execution_count": 94,
   "id": "cbefd046",
   "metadata": {},
   "outputs": [
    {
     "data": {
      "text/plain": [
       "3     48\n",
       "10    43\n",
       "6     42\n",
       "5     38\n",
       "7     35\n",
       "0     34\n",
       "11    31\n",
       "4     28\n",
       "9     24\n",
       "2     19\n",
       "8     17\n",
       "1     16\n",
       "dtype: int32"
      ]
     },
     "execution_count": 94,
     "metadata": {},
     "output_type": "execute_result"
    }
   ],
   "source": [
    "s6.sort_values(ascending=False)"
   ]
  },
  {
   "cell_type": "code",
   "execution_count": null,
   "id": "10caf3f0",
   "metadata": {},
   "outputs": [],
   "source": []
  }
 ],
 "metadata": {
  "kernelspec": {
   "display_name": "Python 3 (ipykernel)",
   "language": "python",
   "name": "python3"
  },
  "language_info": {
   "codemirror_mode": {
    "name": "ipython",
    "version": 3
   },
   "file_extension": ".py",
   "mimetype": "text/x-python",
   "name": "python",
   "nbconvert_exporter": "python",
   "pygments_lexer": "ipython3",
   "version": "3.9.7"
  }
 },
 "nbformat": 4,
 "nbformat_minor": 5
}
