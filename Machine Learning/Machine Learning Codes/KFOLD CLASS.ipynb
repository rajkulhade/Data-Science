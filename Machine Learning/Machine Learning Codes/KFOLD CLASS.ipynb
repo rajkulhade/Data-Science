{
 "cells": [
  {
   "cell_type": "code",
   "execution_count": 1,
   "id": "da8e4397-c37b-4129-8ed1-657987ea31db",
   "metadata": {},
   "outputs": [],
   "source": [
    "import pandas as pd\n",
    "import numpy as np"
   ]
  },
  {
   "cell_type": "code",
   "execution_count": 4,
   "id": "00a68e5a-2b2a-4815-8602-a815d2f3cdf3",
   "metadata": {},
   "outputs": [],
   "source": [
    "ary1=np.arange(10,100,10)"
   ]
  },
  {
   "cell_type": "code",
   "execution_count": 5,
   "id": "9c24d2c2-de98-464b-84da-320a4bd39ede",
   "metadata": {},
   "outputs": [],
   "source": [
    "from sklearn.model_selection import train_test_split"
   ]
  },
  {
   "cell_type": "code",
   "execution_count": 9,
   "id": "0f67154f-6dab-4ec6-b1dd-77aba3a95160",
   "metadata": {},
   "outputs": [
    {
     "data": {
      "text/plain": [
       "[array([30, 70, 40, 10, 90, 50, 60]), array([20, 80])]"
      ]
     },
     "execution_count": 9,
     "metadata": {},
     "output_type": "execute_result"
    }
   ],
   "source": [
    "train_test_split(ary1,test_size=0.20)"
   ]
  },
  {
   "cell_type": "code",
   "execution_count": 10,
   "id": "7fc11eb6-f5b9-4174-b3d4-7bffcb8115bf",
   "metadata": {},
   "outputs": [
    {
     "data": {
      "text/plain": [
       "[array([40, 30, 70, 10, 80, 50, 60]), array([90, 20])]"
      ]
     },
     "execution_count": 10,
     "metadata": {},
     "output_type": "execute_result"
    }
   ],
   "source": [
    "#train_test_split(ary1,test_size=0.20,random_state=22) "
   ]
  },
  {
   "cell_type": "code",
   "execution_count": 13,
   "id": "5a8ab543-8946-4d86-92e6-1877e3c2f298",
   "metadata": {},
   "outputs": [
    {
     "data": {
      "text/plain": [
       "[array([10, 20, 30, 40, 50, 60, 70]), array([80, 90])]"
      ]
     },
     "execution_count": 13,
     "metadata": {},
     "output_type": "execute_result"
    }
   ],
   "source": [
    "#train_test_split(ary1,test_size=0.20,random_state=22,shuffle=False)"
   ]
  },
  {
   "cell_type": "code",
   "execution_count": 14,
   "id": "ec64b988-2b5c-448d-9b6a-e550859ed121",
   "metadata": {},
   "outputs": [
    {
     "data": {
      "text/plain": [
       "[array([70, 20, 30, 80, 90, 40, 50]), array([60, 10])]"
      ]
     },
     "execution_count": 14,
     "metadata": {},
     "output_type": "execute_result"
    }
   ],
   "source": [
    "train_test_split(ary1,test_size=0.20)"
   ]
  },
  {
   "cell_type": "code",
   "execution_count": 15,
   "id": "baf4e26c-dd98-4779-ab33-ef70d8e8ad09",
   "metadata": {},
   "outputs": [],
   "source": [
    "from sklearn.model_selection import KFold"
   ]
  },
  {
   "cell_type": "code",
   "execution_count": 18,
   "id": "18d4b0a1-cc15-4298-9489-2494dfcec842",
   "metadata": {},
   "outputs": [],
   "source": [
    "kf=KFold()"
   ]
  },
  {
   "cell_type": "code",
   "execution_count": 20,
   "id": "2f0299e8-9b35-4ae0-bfff-b1035c0000ec",
   "metadata": {},
   "outputs": [],
   "source": [
    "objkf=kf.split(ary1)"
   ]
  },
  {
   "cell_type": "code",
   "execution_count": 21,
   "id": "35c080c7-8745-4ae7-b5bb-e357cbd026ab",
   "metadata": {},
   "outputs": [
    {
     "data": {
      "text/plain": [
       "[(array([2, 3, 4, 5, 6, 7, 8]), array([0, 1])),\n",
       " (array([0, 1, 4, 5, 6, 7, 8]), array([2, 3])),\n",
       " (array([0, 1, 2, 3, 6, 7, 8]), array([4, 5])),\n",
       " (array([0, 1, 2, 3, 4, 5, 8]), array([6, 7])),\n",
       " (array([0, 1, 2, 3, 4, 5, 6, 7]), array([8]))]"
      ]
     },
     "execution_count": 21,
     "metadata": {},
     "output_type": "execute_result"
    }
   ],
   "source": [
    "list(objkf)"
   ]
  },
  {
   "cell_type": "code",
   "execution_count": 22,
   "id": "3bca88fd-0e0a-4938-b44a-63cf00db1c1d",
   "metadata": {},
   "outputs": [
    {
     "data": {
      "text/plain": [
       "[]"
      ]
     },
     "execution_count": 22,
     "metadata": {},
     "output_type": "execute_result"
    }
   ],
   "source": [
    "list(objkf)"
   ]
  },
  {
   "cell_type": "code",
   "execution_count": 33,
   "id": "bdcf27d4-6e34-49f9-a8b9-40b93c3656fe",
   "metadata": {},
   "outputs": [],
   "source": [
    "objkf1=kf.split(ary1)"
   ]
  },
  {
   "cell_type": "code",
   "execution_count": 35,
   "id": "ef36af56-1fc2-4ba4-a8d5-608fd157564b",
   "metadata": {},
   "outputs": [
    {
     "name": "stdout",
     "output_type": "stream",
     "text": [
      "[2 3 4 5 6 7 8]\n",
      "[0 1]\n",
      "[0 1 4 5 6 7 8]\n",
      "[2 3]\n",
      "[0 1 2 3 6 7 8]\n",
      "[4 5]\n",
      "[0 1 2 3 4 5 8]\n",
      "[6 7]\n",
      "[0 1 2 3 4 5 6 7]\n",
      "[8]\n"
     ]
    }
   ],
   "source": [
    "for X , y  in objkf1:\n",
    "    print(X)\n",
    "    print(y)"
   ]
  },
  {
   "cell_type": "code",
   "execution_count": null,
   "id": "e70de5cc-f4f8-4999-9048-34860913af56",
   "metadata": {},
   "outputs": [],
   "source": []
  },
  {
   "cell_type": "code",
   "execution_count": null,
   "id": "adbcf53c-b1e7-4156-8a7f-fa57d5adb3c4",
   "metadata": {},
   "outputs": [],
   "source": []
  }
 ],
 "metadata": {
  "kernelspec": {
   "display_name": "Python 3 (ipykernel)",
   "language": "python",
   "name": "python3"
  },
  "language_info": {
   "codemirror_mode": {
    "name": "ipython",
    "version": 3
   },
   "file_extension": ".py",
   "mimetype": "text/x-python",
   "name": "python",
   "nbconvert_exporter": "python",
   "pygments_lexer": "ipython3",
   "version": "3.9.7"
  }
 },
 "nbformat": 4,
 "nbformat_minor": 5
}
