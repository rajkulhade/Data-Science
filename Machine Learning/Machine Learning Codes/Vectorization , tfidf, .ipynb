{
 "cells": [
  {
   "cell_type": "code",
   "execution_count": 1,
   "id": "478494f8-d854-4291-8b51-e095a14abf2f",
   "metadata": {},
   "outputs": [],
   "source": [
    "import pandas as pd\n",
    "import numpy as np"
   ]
  },
  {
   "cell_type": "code",
   "execution_count": 2,
   "id": "17005e5a-92ff-4886-be3a-f72c1460171b",
   "metadata": {},
   "outputs": [],
   "source": [
    "text=[\"Welcome to python Class,Python is OOps Language\",\n",
    "      'I love White dogs',\n",
    "     \"i Live in city Hyderabad city a part of India\"]"
   ]
  },
  {
   "cell_type": "code",
   "execution_count": 3,
   "id": "7f9b521f-0231-4e47-aab7-cf1bed8516ae",
   "metadata": {},
   "outputs": [],
   "source": [
    "from sklearn.feature_extraction.text import CountVectorizer"
   ]
  },
  {
   "cell_type": "code",
   "execution_count": 4,
   "id": "097b4fbf-ca63-4add-913b-44d15c161c28",
   "metadata": {},
   "outputs": [],
   "source": [
    "cvec=CountVectorizer()"
   ]
  },
  {
   "cell_type": "code",
   "execution_count": 5,
   "id": "d4a7786f-8e7e-45ab-8ce8-149ab794a310",
   "metadata": {},
   "outputs": [
    {
     "data": {
      "text/plain": [
       "CountVectorizer()"
      ]
     },
     "execution_count": 5,
     "metadata": {},
     "output_type": "execute_result"
    }
   ],
   "source": [
    "cvec.fit(text)"
   ]
  },
  {
   "cell_type": "code",
   "execution_count": 7,
   "id": "a47a2f59-611b-4645-9035-4bbf887ef508",
   "metadata": {},
   "outputs": [
    {
     "data": {
      "text/plain": [
       "['city',\n",
       " 'class',\n",
       " 'dogs',\n",
       " 'hyderabad',\n",
       " 'in',\n",
       " 'india',\n",
       " 'is',\n",
       " 'language',\n",
       " 'live',\n",
       " 'love',\n",
       " 'of',\n",
       " 'oops',\n",
       " 'part',\n",
       " 'python',\n",
       " 'to',\n",
       " 'welcome',\n",
       " 'white']"
      ]
     },
     "execution_count": 7,
     "metadata": {},
     "output_type": "execute_result"
    }
   ],
   "source": [
    "cvec.get_feature_names()"
   ]
  },
  {
   "cell_type": "code",
   "execution_count": 11,
   "id": "b74852e1-b307-4018-9f09-99b8cbd4129b",
   "metadata": {},
   "outputs": [
    {
     "data": {
      "text/plain": [
       "{'welcome': 15,\n",
       " 'to': 14,\n",
       " 'python': 13,\n",
       " 'class': 1,\n",
       " 'is': 6,\n",
       " 'oops': 11,\n",
       " 'language': 7,\n",
       " 'love': 9,\n",
       " 'white': 16,\n",
       " 'dogs': 2,\n",
       " 'live': 8,\n",
       " 'in': 4,\n",
       " 'city': 0,\n",
       " 'hyderabad': 3,\n",
       " 'part': 12,\n",
       " 'of': 10,\n",
       " 'india': 5}"
      ]
     },
     "execution_count": 11,
     "metadata": {},
     "output_type": "execute_result"
    }
   ],
   "source": [
    "cvec.vocabulary_"
   ]
  },
  {
   "cell_type": "code",
   "execution_count": 15,
   "id": "978c2796-99bc-492a-9658-aa5843a76971",
   "metadata": {},
   "outputs": [],
   "source": [
    "ary1=cvec.transform(text).toarray()"
   ]
  },
  {
   "cell_type": "code",
   "execution_count": 16,
   "id": "80fa6c0d-7b61-4b40-b8ae-17ce5942cc69",
   "metadata": {},
   "outputs": [
    {
     "data": {
      "text/plain": [
       "array([[0, 1, 0, 0, 0, 0, 1, 1, 0, 0, 0, 1, 0, 2, 1, 1, 0],\n",
       "       [0, 0, 1, 0, 0, 0, 0, 0, 0, 1, 0, 0, 0, 0, 0, 0, 1],\n",
       "       [2, 0, 0, 1, 1, 1, 0, 0, 1, 0, 1, 0, 1, 0, 0, 0, 0]], dtype=int64)"
      ]
     },
     "execution_count": 16,
     "metadata": {},
     "output_type": "execute_result"
    }
   ],
   "source": [
    "ary1"
   ]
  },
  {
   "cell_type": "code",
   "execution_count": 17,
   "id": "513823d4-f77d-4dc8-bcb7-3e02d198d67a",
   "metadata": {},
   "outputs": [],
   "source": [
    "from sklearn.feature_extraction.text import TfidfTransformer"
   ]
  },
  {
   "cell_type": "code",
   "execution_count": 18,
   "id": "bc4108cd-7d79-4f88-bb34-2f2f3e854208",
   "metadata": {},
   "outputs": [],
   "source": [
    "tfid=TfidfTransformer()"
   ]
  },
  {
   "cell_type": "code",
   "execution_count": 20,
   "id": "fe8a6257-c03a-4ec3-8ad3-a1b52be1b006",
   "metadata": {},
   "outputs": [],
   "source": [
    "text_tfidf=tfid.fit_transform(ary1).toarray()"
   ]
  },
  {
   "cell_type": "code",
   "execution_count": 22,
   "id": "3b6d4e2f-255e-406f-bf36-597841dd7eeb",
   "metadata": {},
   "outputs": [
    {
     "data": {
      "text/plain": [
       "array([1.69314718, 1.69314718, 1.69314718, 1.69314718, 1.69314718,\n",
       "       1.69314718, 1.69314718, 1.69314718, 1.69314718, 1.69314718,\n",
       "       1.69314718, 1.69314718, 1.69314718, 1.69314718, 1.69314718,\n",
       "       1.69314718, 1.69314718])"
      ]
     },
     "execution_count": 22,
     "metadata": {},
     "output_type": "execute_result"
    }
   ],
   "source": [
    "tfid.idf_"
   ]
  },
  {
   "cell_type": "code",
   "execution_count": 21,
   "id": "acc2e021-3e98-4bd2-80e6-5fa8e55c408d",
   "metadata": {},
   "outputs": [
    {
     "data": {
      "text/plain": [
       "array([[0.        , 0.31622777, 0.        , 0.        , 0.        ,\n",
       "        0.        , 0.31622777, 0.31622777, 0.        , 0.        ,\n",
       "        0.        , 0.31622777, 0.        , 0.63245553, 0.31622777,\n",
       "        0.31622777, 0.        ],\n",
       "       [0.        , 0.        , 0.57735027, 0.        , 0.        ,\n",
       "        0.        , 0.        , 0.        , 0.        , 0.57735027,\n",
       "        0.        , 0.        , 0.        , 0.        , 0.        ,\n",
       "        0.        , 0.57735027],\n",
       "       [0.63245553, 0.        , 0.        , 0.31622777, 0.31622777,\n",
       "        0.31622777, 0.        , 0.        , 0.31622777, 0.        ,\n",
       "        0.31622777, 0.        , 0.31622777, 0.        , 0.        ,\n",
       "        0.        , 0.        ]])"
      ]
     },
     "execution_count": 21,
     "metadata": {},
     "output_type": "execute_result"
    }
   ],
   "source": [
    "text_tfidf"
   ]
  },
  {
   "cell_type": "code",
   "execution_count": 23,
   "id": "0471a958-e709-4c49-bc0d-20e82fa72026",
   "metadata": {},
   "outputs": [
    {
     "data": {
      "text/plain": [
       "array([[0, 1, 0, 0, 0, 0, 1, 1, 0, 0, 0, 1, 0, 2, 1, 1, 0],\n",
       "       [0, 0, 1, 0, 0, 0, 0, 0, 0, 1, 0, 0, 0, 0, 0, 0, 1],\n",
       "       [2, 0, 0, 1, 1, 1, 0, 0, 1, 0, 1, 0, 1, 0, 0, 0, 0]], dtype=int64)"
      ]
     },
     "execution_count": 23,
     "metadata": {},
     "output_type": "execute_result"
    }
   ],
   "source": [
    "ary1"
   ]
  },
  {
   "cell_type": "code",
   "execution_count": null,
   "id": "649ff2c1-5ce9-48ba-ac77-13d9a5be416c",
   "metadata": {},
   "outputs": [],
   "source": []
  }
 ],
 "metadata": {
  "kernelspec": {
   "display_name": "Python 3 (ipykernel)",
   "language": "python",
   "name": "python3"
  },
  "language_info": {
   "codemirror_mode": {
    "name": "ipython",
    "version": 3
   },
   "file_extension": ".py",
   "mimetype": "text/x-python",
   "name": "python",
   "nbconvert_exporter": "python",
   "pygments_lexer": "ipython3",
   "version": "3.9.7"
  }
 },
 "nbformat": 4,
 "nbformat_minor": 5
}
