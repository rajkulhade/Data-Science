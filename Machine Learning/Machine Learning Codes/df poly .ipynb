{
 "cells": [
  {
   "cell_type": "code",
   "execution_count": 1,
   "id": "b84f0f8d-f821-48d8-ad68-2288b13b1e33",
   "metadata": {},
   "outputs": [],
   "source": [
    "import pandas as pd\n",
    "import numpy as np"
   ]
  },
  {
   "cell_type": "code",
   "execution_count": 3,
   "id": "ddf47f12-b4a6-411e-9697-14ade002d737",
   "metadata": {},
   "outputs": [],
   "source": [
    "X=np.arange(2,20,2)"
   ]
  },
  {
   "cell_type": "code",
   "execution_count": 4,
   "id": "a69f2f00-15fc-4a65-ae5f-3fb913e82a01",
   "metadata": {},
   "outputs": [
    {
     "data": {
      "text/plain": [
       "array([ 2,  4,  6,  8, 10, 12, 14, 16, 18])"
      ]
     },
     "execution_count": 4,
     "metadata": {},
     "output_type": "execute_result"
    }
   ],
   "source": [
    "X"
   ]
  },
  {
   "cell_type": "code",
   "execution_count": 5,
   "id": "97f3f151-c285-4bef-9f37-fb1c54a8305a",
   "metadata": {},
   "outputs": [],
   "source": [
    "from sklearn.preprocessing import PolynomialFeatures"
   ]
  },
  {
   "cell_type": "code",
   "execution_count": 6,
   "id": "86c6166d-cb6f-4668-9fb7-4ceb80a6f4ad",
   "metadata": {},
   "outputs": [],
   "source": [
    "pf=PolynomialFeatures()"
   ]
  },
  {
   "cell_type": "code",
   "execution_count": 7,
   "id": "c2070c05-d8af-429c-a7ec-ed8bee6f9c37",
   "metadata": {},
   "outputs": [],
   "source": [
    "df1=pd.DataFrame(X)"
   ]
  },
  {
   "cell_type": "code",
   "execution_count": 8,
   "id": "470f5ac1-28b7-485e-b660-658b5cfe754a",
   "metadata": {},
   "outputs": [
    {
     "data": {
      "text/html": [
       "<div>\n",
       "<style scoped>\n",
       "    .dataframe tbody tr th:only-of-type {\n",
       "        vertical-align: middle;\n",
       "    }\n",
       "\n",
       "    .dataframe tbody tr th {\n",
       "        vertical-align: top;\n",
       "    }\n",
       "\n",
       "    .dataframe thead th {\n",
       "        text-align: right;\n",
       "    }\n",
       "</style>\n",
       "<table border=\"1\" class=\"dataframe\">\n",
       "  <thead>\n",
       "    <tr style=\"text-align: right;\">\n",
       "      <th></th>\n",
       "      <th>0</th>\n",
       "    </tr>\n",
       "  </thead>\n",
       "  <tbody>\n",
       "    <tr>\n",
       "      <th>0</th>\n",
       "      <td>2</td>\n",
       "    </tr>\n",
       "    <tr>\n",
       "      <th>1</th>\n",
       "      <td>4</td>\n",
       "    </tr>\n",
       "    <tr>\n",
       "      <th>2</th>\n",
       "      <td>6</td>\n",
       "    </tr>\n",
       "    <tr>\n",
       "      <th>3</th>\n",
       "      <td>8</td>\n",
       "    </tr>\n",
       "    <tr>\n",
       "      <th>4</th>\n",
       "      <td>10</td>\n",
       "    </tr>\n",
       "    <tr>\n",
       "      <th>5</th>\n",
       "      <td>12</td>\n",
       "    </tr>\n",
       "    <tr>\n",
       "      <th>6</th>\n",
       "      <td>14</td>\n",
       "    </tr>\n",
       "    <tr>\n",
       "      <th>7</th>\n",
       "      <td>16</td>\n",
       "    </tr>\n",
       "    <tr>\n",
       "      <th>8</th>\n",
       "      <td>18</td>\n",
       "    </tr>\n",
       "  </tbody>\n",
       "</table>\n",
       "</div>"
      ],
      "text/plain": [
       "    0\n",
       "0   2\n",
       "1   4\n",
       "2   6\n",
       "3   8\n",
       "4  10\n",
       "5  12\n",
       "6  14\n",
       "7  16\n",
       "8  18"
      ]
     },
     "execution_count": 8,
     "metadata": {},
     "output_type": "execute_result"
    }
   ],
   "source": [
    "df1"
   ]
  },
  {
   "cell_type": "code",
   "execution_count": 10,
   "id": "4b1ff704-4630-49a9-a93d-3012fe2ff1b6",
   "metadata": {},
   "outputs": [
    {
     "data": {
      "text/plain": [
       "PolynomialFeatures()"
      ]
     },
     "execution_count": 10,
     "metadata": {},
     "output_type": "execute_result"
    }
   ],
   "source": [
    "pf.fit(df1)"
   ]
  },
  {
   "cell_type": "code",
   "execution_count": 13,
   "id": "8240a312-e4a3-4b68-9c4a-e9a3b53e22e6",
   "metadata": {},
   "outputs": [],
   "source": [
    "df1poly=pf.transform(df1)"
   ]
  },
  {
   "cell_type": "code",
   "execution_count": 14,
   "id": "91d8c73f-280c-45fd-be8d-acd11f7076e0",
   "metadata": {},
   "outputs": [
    {
     "data": {
      "text/plain": [
       "array([[  1.,   2.,   4.],\n",
       "       [  1.,   4.,  16.],\n",
       "       [  1.,   6.,  36.],\n",
       "       [  1.,   8.,  64.],\n",
       "       [  1.,  10., 100.],\n",
       "       [  1.,  12., 144.],\n",
       "       [  1.,  14., 196.],\n",
       "       [  1.,  16., 256.],\n",
       "       [  1.,  18., 324.]])"
      ]
     },
     "execution_count": 14,
     "metadata": {},
     "output_type": "execute_result"
    }
   ],
   "source": [
    "df1poly"
   ]
  },
  {
   "cell_type": "code",
   "execution_count": 16,
   "id": "02d8a822-cad4-450b-bb2a-95dded787b58",
   "metadata": {},
   "outputs": [],
   "source": [
    "pf1=PolynomialFeatures(degree=3)"
   ]
  },
  {
   "cell_type": "code",
   "execution_count": 17,
   "id": "7561cb07-3076-43da-b758-5c4b4859dd84",
   "metadata": {},
   "outputs": [],
   "source": [
    "df1poly1=pf1.fit_transform(df1)"
   ]
  },
  {
   "cell_type": "code",
   "execution_count": 18,
   "id": "01e7e127-4462-450b-9732-2397aa93d72a",
   "metadata": {},
   "outputs": [
    {
     "data": {
      "text/plain": [
       "array([[1.000e+00, 2.000e+00, 4.000e+00, 8.000e+00],\n",
       "       [1.000e+00, 4.000e+00, 1.600e+01, 6.400e+01],\n",
       "       [1.000e+00, 6.000e+00, 3.600e+01, 2.160e+02],\n",
       "       [1.000e+00, 8.000e+00, 6.400e+01, 5.120e+02],\n",
       "       [1.000e+00, 1.000e+01, 1.000e+02, 1.000e+03],\n",
       "       [1.000e+00, 1.200e+01, 1.440e+02, 1.728e+03],\n",
       "       [1.000e+00, 1.400e+01, 1.960e+02, 2.744e+03],\n",
       "       [1.000e+00, 1.600e+01, 2.560e+02, 4.096e+03],\n",
       "       [1.000e+00, 1.800e+01, 3.240e+02, 5.832e+03]])"
      ]
     },
     "execution_count": 18,
     "metadata": {},
     "output_type": "execute_result"
    }
   ],
   "source": [
    "df1poly1"
   ]
  },
  {
   "cell_type": "code",
   "execution_count": null,
   "id": "b97e6e06-ca8a-42da-bd17-88544db4aca0",
   "metadata": {},
   "outputs": [],
   "source": []
  }
 ],
 "metadata": {
  "kernelspec": {
   "display_name": "Python 3 (ipykernel)",
   "language": "python",
   "name": "python3"
  },
  "language_info": {
   "codemirror_mode": {
    "name": "ipython",
    "version": 3
   },
   "file_extension": ".py",
   "mimetype": "text/x-python",
   "name": "python",
   "nbconvert_exporter": "python",
   "pygments_lexer": "ipython3",
   "version": "3.9.7"
  }
 },
 "nbformat": 4,
 "nbformat_minor": 5
}
