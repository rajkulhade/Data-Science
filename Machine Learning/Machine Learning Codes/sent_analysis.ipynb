{
 "cells": [
  {
   "cell_type": "code",
   "execution_count": 1,
   "id": "756dfeba-eaec-40f2-93b5-f49406c7309f",
   "metadata": {},
   "outputs": [],
   "source": [
    "import pandas as pd\n",
    "import numpy as np"
   ]
  },
  {
   "cell_type": "code",
   "execution_count": 2,
   "id": "9c1ea067-5e6d-4f34-9645-add11b71d61e",
   "metadata": {},
   "outputs": [],
   "source": [
    "dfsenti=pd.read_csv(r\"C:\\Users\\admin\\Desktop\\DATA SCIENCE\\Machine Learning\\machine learning dataset\\sent_analysis.csv\")"
   ]
  },
  {
   "cell_type": "code",
   "execution_count": 3,
   "id": "aa618eb3-bdaf-485d-b14e-03f31bd4c015",
   "metadata": {},
   "outputs": [
    {
     "data": {
      "text/html": [
       "<div>\n",
       "<style scoped>\n",
       "    .dataframe tbody tr th:only-of-type {\n",
       "        vertical-align: middle;\n",
       "    }\n",
       "\n",
       "    .dataframe tbody tr th {\n",
       "        vertical-align: top;\n",
       "    }\n",
       "\n",
       "    .dataframe thead th {\n",
       "        text-align: right;\n",
       "    }\n",
       "</style>\n",
       "<table border=\"1\" class=\"dataframe\">\n",
       "  <thead>\n",
       "    <tr style=\"text-align: right;\">\n",
       "      <th></th>\n",
       "      <th>class</th>\n",
       "      <th>text</th>\n",
       "    </tr>\n",
       "  </thead>\n",
       "  <tbody>\n",
       "    <tr>\n",
       "      <th>0</th>\n",
       "      <td>Pos</td>\n",
       "      <td>films adapted from comic books have had plent...</td>\n",
       "    </tr>\n",
       "    <tr>\n",
       "      <th>1</th>\n",
       "      <td>Pos</td>\n",
       "      <td>every now and then a movie comes along from a...</td>\n",
       "    </tr>\n",
       "    <tr>\n",
       "      <th>2</th>\n",
       "      <td>Pos</td>\n",
       "      <td>you ve got mail works alot better than it des...</td>\n",
       "    </tr>\n",
       "    <tr>\n",
       "      <th>3</th>\n",
       "      <td>Pos</td>\n",
       "      <td>jaws   is a rare film that grabs your atte...</td>\n",
       "    </tr>\n",
       "    <tr>\n",
       "      <th>4</th>\n",
       "      <td>Pos</td>\n",
       "      <td>moviemaking is a lot like being the general m...</td>\n",
       "    </tr>\n",
       "    <tr>\n",
       "      <th>...</th>\n",
       "      <td>...</td>\n",
       "      <td>...</td>\n",
       "    </tr>\n",
       "    <tr>\n",
       "      <th>1995</th>\n",
       "      <td>Neg</td>\n",
       "      <td>if anything     stigmata   should be taken as...</td>\n",
       "    </tr>\n",
       "    <tr>\n",
       "      <th>1996</th>\n",
       "      <td>Neg</td>\n",
       "      <td>john boorman s   zardoz   is a goofy cinemati...</td>\n",
       "    </tr>\n",
       "    <tr>\n",
       "      <th>1997</th>\n",
       "      <td>Neg</td>\n",
       "      <td>the kids in the hall are an acquired taste   ...</td>\n",
       "    </tr>\n",
       "    <tr>\n",
       "      <th>1998</th>\n",
       "      <td>Neg</td>\n",
       "      <td>there was a time when john carpenter was a gr...</td>\n",
       "    </tr>\n",
       "    <tr>\n",
       "      <th>1999</th>\n",
       "      <td>Neg</td>\n",
       "      <td>two party guys bob their heads to haddaway s ...</td>\n",
       "    </tr>\n",
       "  </tbody>\n",
       "</table>\n",
       "<p>2000 rows × 2 columns</p>\n",
       "</div>"
      ],
      "text/plain": [
       "     class                                               text\n",
       "0      Pos   films adapted from comic books have had plent...\n",
       "1      Pos   every now and then a movie comes along from a...\n",
       "2      Pos   you ve got mail works alot better than it des...\n",
       "3      Pos      jaws   is a rare film that grabs your atte...\n",
       "4      Pos   moviemaking is a lot like being the general m...\n",
       "...    ...                                                ...\n",
       "1995   Neg   if anything     stigmata   should be taken as...\n",
       "1996   Neg   john boorman s   zardoz   is a goofy cinemati...\n",
       "1997   Neg   the kids in the hall are an acquired taste   ...\n",
       "1998   Neg   there was a time when john carpenter was a gr...\n",
       "1999   Neg   two party guys bob their heads to haddaway s ...\n",
       "\n",
       "[2000 rows x 2 columns]"
      ]
     },
     "execution_count": 3,
     "metadata": {},
     "output_type": "execute_result"
    }
   ],
   "source": [
    "dfsenti"
   ]
  },
  {
   "cell_type": "code",
   "execution_count": 4,
   "id": "32caf64a-9499-40ff-8f2b-b90f06abefea",
   "metadata": {},
   "outputs": [],
   "source": [
    "from sklearn.model_selection import train_test_split"
   ]
  },
  {
   "cell_type": "code",
   "execution_count": 5,
   "id": "e0c26948-0887-46f4-87d5-f7a304bfebe0",
   "metadata": {},
   "outputs": [],
   "source": [
    "X =dfsenti[\"text\"]"
   ]
  },
  {
   "cell_type": "code",
   "execution_count": 6,
   "id": "630516d5-3892-4596-bcbd-093d7e8cf629",
   "metadata": {},
   "outputs": [],
   "source": [
    "y=dfsenti[\"class\"]"
   ]
  },
  {
   "cell_type": "code",
   "execution_count": 7,
   "id": "17fe0732-481c-4965-9f4b-331c2bd4122f",
   "metadata": {},
   "outputs": [],
   "source": [
    "Xtrain,Xtest,ytrain,ytest=train_test_split(X,y,test_size=0.30)"
   ]
  },
  {
   "cell_type": "code",
   "execution_count": 8,
   "id": "53dd4bb6-6185-4254-b354-c0afa4255cfa",
   "metadata": {},
   "outputs": [
    {
     "data": {
      "text/plain": [
       "651      it might surprise some to know that joel and ...\n",
       "1253     hey   i ve got a great idea for a movie !  ok...\n",
       "304      one of the best things about my job is that  ...\n",
       "1680     1   he doesn t have a hard to decipher accent...\n",
       "300      it is simply amazing how   the green mile   d...\n",
       "                              ...                        \n",
       "1185        the animal   is a marginally inspired come...\n",
       "1147     play it to the bone is a punch drunk mess of ...\n",
       "1790     america s favorite homicidal plaything takes ...\n",
       "847      bruce lee was a bigger than life martial arti...\n",
       "1888     spoiled rich kid kelley morse   chris klein  ...\n",
       "Name: text, Length: 1400, dtype: object"
      ]
     },
     "execution_count": 8,
     "metadata": {},
     "output_type": "execute_result"
    }
   ],
   "source": [
    "Xtrain"
   ]
  },
  {
   "cell_type": "code",
   "execution_count": 9,
   "id": "019b83e5-0318-4901-9e7b-5e68671d00e1",
   "metadata": {},
   "outputs": [],
   "source": [
    "from sklearn.feature_extraction.text import CountVectorizer"
   ]
  },
  {
   "cell_type": "code",
   "execution_count": 10,
   "id": "b967e606-1534-4f43-b82c-67cfff9ba59f",
   "metadata": {},
   "outputs": [],
   "source": [
    "cvec=CountVectorizer()"
   ]
  },
  {
   "cell_type": "code",
   "execution_count": 11,
   "id": "9ea7e652-b803-46f1-a813-5cb39a14b0ca",
   "metadata": {},
   "outputs": [],
   "source": [
    "cvec_train=cvec.fit_transform(Xtrain)"
   ]
  },
  {
   "cell_type": "code",
   "execution_count": 12,
   "id": "6e7ce407-14c2-4a30-95c1-6b4abeaee8c0",
   "metadata": {},
   "outputs": [],
   "source": [
    "cvec_test=cvec.transform(Xtest)"
   ]
  },
  {
   "cell_type": "code",
   "execution_count": 13,
   "id": "70a03e73-c0c4-4917-9cf8-9d97fb3c03e6",
   "metadata": {},
   "outputs": [],
   "source": [
    "from sklearn.feature_extraction.text import TfidfTransformer"
   ]
  },
  {
   "cell_type": "code",
   "execution_count": 14,
   "id": "1d7ceeac-d2ac-4793-a8da-70635a365ce9",
   "metadata": {},
   "outputs": [],
   "source": [
    "tfidf=TfidfTransformer()"
   ]
  },
  {
   "cell_type": "code",
   "execution_count": 15,
   "id": "4f748e61-5f1a-4f4e-907e-22fdb9fa3ed7",
   "metadata": {},
   "outputs": [],
   "source": [
    "tfidf_train=tfidf.fit_transform(cvec_train)"
   ]
  },
  {
   "cell_type": "code",
   "execution_count": 16,
   "id": "5180e40b-1d7e-4d1a-81e3-5f803a8a6958",
   "metadata": {},
   "outputs": [],
   "source": [
    "tfidf_test=tfidf.transform(cvec_test)"
   ]
  },
  {
   "cell_type": "code",
   "execution_count": 17,
   "id": "29c025d3-1d5b-4cc1-bb9a-895c57f7fe8c",
   "metadata": {},
   "outputs": [],
   "source": [
    "from sklearn.naive_bayes import MultinomialNB"
   ]
  },
  {
   "cell_type": "code",
   "execution_count": 18,
   "id": "1e7db4be-7614-4b33-a83c-c83de820cba6",
   "metadata": {},
   "outputs": [],
   "source": [
    "mnb=MultinomialNB()"
   ]
  },
  {
   "cell_type": "code",
   "execution_count": 19,
   "id": "a7279f85-39de-4967-b3ab-d54b69b2a47d",
   "metadata": {},
   "outputs": [
    {
     "data": {
      "text/plain": [
       "MultinomialNB()"
      ]
     },
     "execution_count": 19,
     "metadata": {},
     "output_type": "execute_result"
    }
   ],
   "source": [
    "mnb.fit(tfidf_train,ytrain)"
   ]
  },
  {
   "cell_type": "code",
   "execution_count": 20,
   "id": "9f569476-478c-4157-9058-9f431ef3e07e",
   "metadata": {},
   "outputs": [
    {
     "data": {
      "text/plain": [
       "0.9728571428571429"
      ]
     },
     "execution_count": 20,
     "metadata": {},
     "output_type": "execute_result"
    }
   ],
   "source": [
    "mnb.score(tfidf_train,ytrain)"
   ]
  },
  {
   "cell_type": "code",
   "execution_count": 21,
   "id": "a4175616-7627-47d7-8f16-7a8dd266b0eb",
   "metadata": {},
   "outputs": [
    {
     "data": {
      "text/plain": [
       "0.8216666666666667"
      ]
     },
     "execution_count": 21,
     "metadata": {},
     "output_type": "execute_result"
    }
   ],
   "source": [
    "mnb.score(tfidf_test,ytest)"
   ]
  },
  {
   "cell_type": "code",
   "execution_count": 22,
   "id": "d83fffb0-a53f-4e02-ab29-4b9265b941bd",
   "metadata": {},
   "outputs": [],
   "source": [
    "str2=\"I AM AT VERY WORST SITUATION TODAY\""
   ]
  },
  {
   "cell_type": "code",
   "execution_count": 23,
   "id": "45671414-b7fc-4b4b-b8e8-e10db9af90a1",
   "metadata": {},
   "outputs": [],
   "source": [
    "cvec_str2=cvec.transform([str2])"
   ]
  },
  {
   "cell_type": "code",
   "execution_count": 24,
   "id": "a725bd6b-dd80-4e4e-aa15-2fe764be00c9",
   "metadata": {},
   "outputs": [],
   "source": [
    "tfidf_str2=tfidf.transform(cvec_str2)"
   ]
  },
  {
   "cell_type": "code",
   "execution_count": 25,
   "id": "404fe8d0-f6f3-484d-88bf-7629889a1fa0",
   "metadata": {},
   "outputs": [
    {
     "data": {
      "text/plain": [
       "<1x34161 sparse matrix of type '<class 'numpy.float64'>'\n",
       "\twith 6 stored elements in Compressed Sparse Row format>"
      ]
     },
     "execution_count": 25,
     "metadata": {},
     "output_type": "execute_result"
    }
   ],
   "source": [
    "tfidf_str2"
   ]
  },
  {
   "cell_type": "code",
   "execution_count": 26,
   "id": "bca6909d-9e94-4479-8b85-41ca0c38d619",
   "metadata": {},
   "outputs": [],
   "source": [
    "pred=mnb.predict(tfidf_str2)"
   ]
  },
  {
   "cell_type": "code",
   "execution_count": 27,
   "id": "54c222e5-02dd-41ed-bce6-8d1310d9f092",
   "metadata": {},
   "outputs": [
    {
     "data": {
      "text/plain": [
       "array(['Neg'], dtype='<U3')"
      ]
     },
     "execution_count": 27,
     "metadata": {},
     "output_type": "execute_result"
    }
   ],
   "source": [
    "pred"
   ]
  },
  {
   "cell_type": "code",
   "execution_count": 28,
   "id": "14bff55b-6cd9-4afc-b736-7bffa7e68c11",
   "metadata": {},
   "outputs": [
    {
     "name": "stdout",
     "output_type": "stream",
     "text": [
      "It is a Negative Statement\n"
     ]
    }
   ],
   "source": [
    "if pred=='Neg':\n",
    "    print(\"It is a Negative Statement\")\n",
    "else:\n",
    "    print(\"Is is a Positive Statement\")"
   ]
  },
  {
   "cell_type": "code",
   "execution_count": 29,
   "id": "0ccd757d-b091-46d8-b01e-bc3721b32239",
   "metadata": {},
   "outputs": [],
   "source": [
    "def senti(s):\n",
    "    cvec_s=cvec.transform([s])\n",
    "    tfidf_s=tfidf.transform(cvec_s)\n",
    "    pred=mnb.predict(tfidf_s)\n",
    "    if pred=='Neg':\n",
    "            return(\"It is a Negative Statement\")\n",
    "    else:\n",
    "            return(\"Is is a Positive Statement\")\n",
    "    "
   ]
  },
  {
   "cell_type": "code",
   "execution_count": 30,
   "id": "a1a38eec-a465-45b9-b2b8-bdbfca9093f9",
   "metadata": {},
   "outputs": [
    {
     "name": "stdin",
     "output_type": "stream",
     "text": [
      "Enter your sentence :   I LOVE FOOTBAAL\n"
     ]
    },
    {
     "data": {
      "text/plain": [
       "'Is is a Positive Statement'"
      ]
     },
     "execution_count": 30,
     "metadata": {},
     "output_type": "execute_result"
    }
   ],
   "source": [
    "sent=input(\"Enter your sentence :  \")\n",
    "senti(sent)"
   ]
  },
  {
   "cell_type": "code",
   "execution_count": null,
   "id": "ddb65ee5-cee7-4e49-8479-8e14be97ff1e",
   "metadata": {},
   "outputs": [],
   "source": []
  }
 ],
 "metadata": {
  "kernelspec": {
   "display_name": "Python 3 (ipykernel)",
   "language": "python",
   "name": "python3"
  },
  "language_info": {
   "codemirror_mode": {
    "name": "ipython",
    "version": 3
   },
   "file_extension": ".py",
   "mimetype": "text/x-python",
   "name": "python",
   "nbconvert_exporter": "python",
   "pygments_lexer": "ipython3",
   "version": "3.9.7"
  }
 },
 "nbformat": 4,
 "nbformat_minor": 5
}
